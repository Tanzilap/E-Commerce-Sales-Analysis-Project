{
 "cells": [
  {
   "cell_type": "markdown",
   "id": "a262f34d",
   "metadata": {},
   "source": [
    "### Importing Important Libraries"
   ]
  },
  {
   "cell_type": "code",
   "execution_count": 5,
   "id": "f7817769",
   "metadata": {},
   "outputs": [],
   "source": [
    "import pandas as pd\n",
    "import matplotlib.pyplot as plt\n",
    "import seaborn as sns\n",
    "import sqlite3"
   ]
  },
  {
   "cell_type": "code",
   "execution_count": 6,
   "id": "766e2b7c",
   "metadata": {},
   "outputs": [],
   "source": [
    "# Creating Database 'sales'\n",
    "conn = sqlite3.connect('Sales.db')\n",
    "# Creating cursor to execute SQL commands\n",
    "cursor = conn.cursor() # Creating cursor to execute SQL commands"
   ]
  },
  {
   "cell_type": "markdown",
   "id": "22a1bb4b",
   "metadata": {},
   "source": [
    "### Creating Tables"
   ]
  },
  {
   "cell_type": "code",
   "execution_count": 7,
   "id": "d97e5115",
   "metadata": {},
   "outputs": [],
   "source": [
    "# Creating Orders Table\n",
    "cursor.execute(\"\"\"\n",
    "create table if not exists Orders(\n",
    "    TransactionID Integer,\n",
    "    OrderDate date,\n",
    "    CustomerID Integer,\n",
    "    ProductID Integer,\n",
    "    Quantity Integer,\n",
    "    TotalAmount Integer\n",
    ")\"\"\")\n",
    "\n",
    "# Creating Customers Table\n",
    "cursor.execute(\"\"\"\n",
    "create table if not exists Customers(\n",
    "    CustomerID Integer,\n",
    "    Name text,\n",
    "    Region text,\n",
    "    Segment text\n",
    ")\"\"\")\n",
    "\n",
    "# Creating Products Table\n",
    "cursor.execute(\"\"\"\n",
    "create table if not exists Products(\n",
    "    ProductID integer,\n",
    "    ProductName text,\n",
    "    Category text,\n",
    "    Price integer)\"\"\")\n",
    "\n",
    "# Creating Sales Table\n",
    "cursor.execute(\"\"\"\n",
    "create table if not exists Sales(\n",
    "    OrderID integer,\n",
    "    Revenue integer,\n",
    "    Discounts integer,\n",
    "    Taxes integer)\"\"\")\n",
    "\n",
    "# Creating Sales Analysis Table bu joining all tables\n",
    "cursor.execute(\"\"\"\n",
    "create table if not exists Sales_Analysis(\n",
    "    TransactionID Integer,\n",
    "    OrderDate date,\n",
    "    CustomerID Integer,\n",
    "    ProductID Integer,\n",
    "    Quantity Integer,\n",
    "    TotalAmount Integer,\n",
    "    Name text,\n",
    "    Region text,\n",
    "    Segment text,\n",
    "    ProductName text,\n",
    "    Category text,\n",
    "    Price integer,\n",
    "    OrderID integer,\n",
    "    Revenue integer,\n",
    "    Discounts integer,\n",
    "    Taxes integer)\"\"\")\n",
    " \n",
    "    # Commit changes\n",
    "conn.commit()"
   ]
  },
  {
   "cell_type": "markdown",
   "id": "5cfe5bc5",
   "metadata": {},
   "source": [
    "### Creating CSV Files"
   ]
  },
  {
   "cell_type": "code",
   "execution_count": 8,
   "id": "90c34115",
   "metadata": {},
   "outputs": [],
   "source": [
    "Orders = pd.read_csv('Orders_Large.csv')\n",
    "Customers = pd.read_csv('Customers_Large.csv')\n",
    "Sales = pd.read_csv('Sales_Large.csv')\n",
    "Products = pd.read_csv('Products_Large.csv')"
   ]
  },
  {
   "cell_type": "markdown",
   "id": "ea644422",
   "metadata": {},
   "source": [
    "#### Joining all Tables into one"
   ]
  },
  {
   "cell_type": "code",
   "execution_count": 9,
   "id": "7222de2e",
   "metadata": {},
   "outputs": [
    {
     "name": "stdout",
     "output_type": "stream",
     "text": [
      "     TransactionID   OrderDate  CustomerID  ProductID  Quantity  TotalAmount  \\\n",
      "0             1000  2023-02-11           6        212         4          426   \n",
      "1             1290  2022-12-23           8        212         6          451   \n",
      "2             1018  2023-02-03          28        212         1          665   \n",
      "3             1490  2024-10-16           3        212        10          512   \n",
      "4             1471  2024-11-02          48        212         6          854   \n",
      "..             ...         ...         ...        ...       ...          ...   \n",
      "479           1486  2023-08-14          16        219         3          645   \n",
      "480           1227  2023-06-20           1        219         7          343   \n",
      "481           1475  2023-06-25          11        219         8          742   \n",
      "482           1106  2024-09-05          45        219         7          513   \n",
      "483           1396  2023-12-24          43        219         3          182   \n",
      "\n",
      "                  Name   Region    Segment ProductName     Category  Price  \\\n",
      "0         Lauren Walls     West  Wholesale        Mind  Accessories     67   \n",
      "1        Derek Sanders  Central     Retail        Mind  Accessories     67   \n",
      "2       Bradley Huerta  Central  Corporate        Mind  Accessories     67   \n",
      "3        Cheryl Harris     East  Corporate        Mind  Accessories     67   \n",
      "4        Darrell Brady     East     Retail        Mind  Accessories     67   \n",
      "..                 ...      ...        ...         ...          ...    ...   \n",
      "479     Rachel Hartman     West  Corporate       Truth  Accessories    448   \n",
      "480  Christina Harrell     East  Corporate       Truth  Accessories    448   \n",
      "481    Michael Morales    North     Retail       Truth  Accessories    448   \n",
      "482    Joseph Kemp DDS    North  Corporate       Truth  Accessories    448   \n",
      "483  Patricia Matthews     East     Retail       Truth  Accessories    448   \n",
      "\n",
      "     OrderID  Revenue  Discounts  Taxes  \n",
      "0       1000     1755         30     65  \n",
      "1       1290      732         25     71  \n",
      "2       1018      594         33    186  \n",
      "3       1490     1325         80     22  \n",
      "4       1471     1038         31     27  \n",
      "..       ...      ...        ...    ...  \n",
      "479     1486     1904         70    168  \n",
      "480     1227      884         10    193  \n",
      "481     1475     1747          2     24  \n",
      "482     1106      237         23     29  \n",
      "483     1396      281         15     14  \n",
      "\n",
      "[484 rows x 16 columns]\n"
     ]
    }
   ],
   "source": [
    "Orders_Customers = pd.merge(Orders,Customers,on='CustomerID',how='inner')\n",
    "Pro_Ord_Cus = pd.merge(Orders_Customers,Products,on='ProductID',how='inner')\n",
    "final_table = pd.merge(Pro_Ord_Cus,Sales,left_on='TransactionID',right_on='OrderID')\n",
    "print(final_table)"
   ]
  },
  {
   "cell_type": "code",
   "execution_count": 10,
   "id": "1c4345d3",
   "metadata": {},
   "outputs": [],
   "source": [
    "final_table = final_table.drop(columns=['TransactionID'])"
   ]
  },
  {
   "cell_type": "markdown",
   "id": "3d8d6c56",
   "metadata": {},
   "source": [
    "#### Converting final table data frame into CSV file"
   ]
  },
  {
   "cell_type": "code",
   "execution_count": 11,
   "id": "6da15c1f",
   "metadata": {},
   "outputs": [
    {
     "data": {
      "text/html": [
       "<div>\n",
       "<style scoped>\n",
       "    .dataframe tbody tr th:only-of-type {\n",
       "        vertical-align: middle;\n",
       "    }\n",
       "\n",
       "    .dataframe tbody tr th {\n",
       "        vertical-align: top;\n",
       "    }\n",
       "\n",
       "    .dataframe thead th {\n",
       "        text-align: right;\n",
       "    }\n",
       "</style>\n",
       "<table border=\"1\" class=\"dataframe\">\n",
       "  <thead>\n",
       "    <tr style=\"text-align: right;\">\n",
       "      <th></th>\n",
       "      <th>OrderDate</th>\n",
       "      <th>CustomerID</th>\n",
       "      <th>ProductID</th>\n",
       "      <th>Quantity</th>\n",
       "      <th>TotalAmount</th>\n",
       "      <th>Name</th>\n",
       "      <th>Region</th>\n",
       "      <th>Segment</th>\n",
       "      <th>ProductName</th>\n",
       "      <th>Category</th>\n",
       "      <th>Price</th>\n",
       "      <th>OrderID</th>\n",
       "      <th>Revenue</th>\n",
       "      <th>Discounts</th>\n",
       "      <th>Taxes</th>\n",
       "    </tr>\n",
       "  </thead>\n",
       "  <tbody>\n",
       "    <tr>\n",
       "      <th>0</th>\n",
       "      <td>2023-02-11</td>\n",
       "      <td>6</td>\n",
       "      <td>212</td>\n",
       "      <td>4</td>\n",
       "      <td>426</td>\n",
       "      <td>Lauren Walls</td>\n",
       "      <td>West</td>\n",
       "      <td>Wholesale</td>\n",
       "      <td>Mind</td>\n",
       "      <td>Accessories</td>\n",
       "      <td>67</td>\n",
       "      <td>1000</td>\n",
       "      <td>1755</td>\n",
       "      <td>30</td>\n",
       "      <td>65</td>\n",
       "    </tr>\n",
       "    <tr>\n",
       "      <th>1</th>\n",
       "      <td>2022-12-23</td>\n",
       "      <td>8</td>\n",
       "      <td>212</td>\n",
       "      <td>6</td>\n",
       "      <td>451</td>\n",
       "      <td>Derek Sanders</td>\n",
       "      <td>Central</td>\n",
       "      <td>Retail</td>\n",
       "      <td>Mind</td>\n",
       "      <td>Accessories</td>\n",
       "      <td>67</td>\n",
       "      <td>1290</td>\n",
       "      <td>732</td>\n",
       "      <td>25</td>\n",
       "      <td>71</td>\n",
       "    </tr>\n",
       "    <tr>\n",
       "      <th>2</th>\n",
       "      <td>2023-02-03</td>\n",
       "      <td>28</td>\n",
       "      <td>212</td>\n",
       "      <td>1</td>\n",
       "      <td>665</td>\n",
       "      <td>Bradley Huerta</td>\n",
       "      <td>Central</td>\n",
       "      <td>Corporate</td>\n",
       "      <td>Mind</td>\n",
       "      <td>Accessories</td>\n",
       "      <td>67</td>\n",
       "      <td>1018</td>\n",
       "      <td>594</td>\n",
       "      <td>33</td>\n",
       "      <td>186</td>\n",
       "    </tr>\n",
       "    <tr>\n",
       "      <th>3</th>\n",
       "      <td>2024-10-16</td>\n",
       "      <td>3</td>\n",
       "      <td>212</td>\n",
       "      <td>10</td>\n",
       "      <td>512</td>\n",
       "      <td>Cheryl Harris</td>\n",
       "      <td>East</td>\n",
       "      <td>Corporate</td>\n",
       "      <td>Mind</td>\n",
       "      <td>Accessories</td>\n",
       "      <td>67</td>\n",
       "      <td>1490</td>\n",
       "      <td>1325</td>\n",
       "      <td>80</td>\n",
       "      <td>22</td>\n",
       "    </tr>\n",
       "    <tr>\n",
       "      <th>4</th>\n",
       "      <td>2024-11-02</td>\n",
       "      <td>48</td>\n",
       "      <td>212</td>\n",
       "      <td>6</td>\n",
       "      <td>854</td>\n",
       "      <td>Darrell Brady</td>\n",
       "      <td>East</td>\n",
       "      <td>Retail</td>\n",
       "      <td>Mind</td>\n",
       "      <td>Accessories</td>\n",
       "      <td>67</td>\n",
       "      <td>1471</td>\n",
       "      <td>1038</td>\n",
       "      <td>31</td>\n",
       "      <td>27</td>\n",
       "    </tr>\n",
       "  </tbody>\n",
       "</table>\n",
       "</div>"
      ],
      "text/plain": [
       "    OrderDate  CustomerID  ProductID  Quantity  TotalAmount            Name  \\\n",
       "0  2023-02-11           6        212         4          426    Lauren Walls   \n",
       "1  2022-12-23           8        212         6          451   Derek Sanders   \n",
       "2  2023-02-03          28        212         1          665  Bradley Huerta   \n",
       "3  2024-10-16           3        212        10          512   Cheryl Harris   \n",
       "4  2024-11-02          48        212         6          854   Darrell Brady   \n",
       "\n",
       "    Region    Segment ProductName     Category  Price  OrderID  Revenue  \\\n",
       "0     West  Wholesale        Mind  Accessories     67     1000     1755   \n",
       "1  Central     Retail        Mind  Accessories     67     1290      732   \n",
       "2  Central  Corporate        Mind  Accessories     67     1018      594   \n",
       "3     East  Corporate        Mind  Accessories     67     1490     1325   \n",
       "4     East     Retail        Mind  Accessories     67     1471     1038   \n",
       "\n",
       "   Discounts  Taxes  \n",
       "0         30     65  \n",
       "1         25     71  \n",
       "2         33    186  \n",
       "3         80     22  \n",
       "4         31     27  "
      ]
     },
     "execution_count": 11,
     "metadata": {},
     "output_type": "execute_result"
    }
   ],
   "source": [
    "final_table.to_csv(\"final_joined_table.csv\", index=False)\n",
    "Sales_Analysis = pd.read_csv(\"final_joined_table.csv\")\n",
    "Sales_Analysis.head()"
   ]
  },
  {
   "cell_type": "markdown",
   "id": "15c54831",
   "metadata": {},
   "source": [
    "### Converting CSV files into SQL Tables"
   ]
  },
  {
   "cell_type": "code",
   "execution_count": 12,
   "id": "6dcc3627",
   "metadata": {},
   "outputs": [
    {
     "data": {
      "text/plain": [
       "484"
      ]
     },
     "execution_count": 12,
     "metadata": {},
     "output_type": "execute_result"
    }
   ],
   "source": [
    "Orders.to_sql('Orders',conn,if_exists='replace',index=False)\n",
    "Customers.to_sql('Customers',conn,if_exists='replace',index=False)\n",
    "Sales.to_sql('Sales',conn,if_exists='replace',index=False)\n",
    "Products.to_sql('Products',conn,if_exists='replace',index=False)\n",
    "Sales_Analysis.to_sql('Sales_Analysis',conn,if_exists='replace',index =False)"
   ]
  },
  {
   "cell_type": "markdown",
   "id": "50d9a1f1",
   "metadata": {},
   "source": [
    "#### Verfying SQL Tables"
   ]
  },
  {
   "cell_type": "code",
   "execution_count": 13,
   "id": "8a9e2eac",
   "metadata": {},
   "outputs": [
    {
     "name": "stdout",
     "output_type": "stream",
     "text": [
      "   TransactionID   OrderDate  CustomerID  ProductID  Quantity  TotalAmount\n",
      "0           1000  2023-02-11           6        212         4          426\n",
      "1           1001  2024-06-09          22        226         8          184\n",
      "2           1002  2022-12-11          31        231         5          880\n",
      "3           1003  2022-12-18          23        227        10          928\n",
      "4           1004  2024-04-11          42        215         7          517\n"
     ]
    }
   ],
   "source": [
    "Order = pd.read_sql('SELECT * FROM Orders',conn)\n",
    "print(Order.head())"
   ]
  },
  {
   "cell_type": "code",
   "execution_count": 14,
   "id": "8e36938e",
   "metadata": {},
   "outputs": [
    {
     "name": "stdout",
     "output_type": "stream",
     "text": [
      "   CustomerID               Name   Region    Segment\n",
      "0           1  Christina Harrell     East  Corporate\n",
      "1           2      David Charles     East  Corporate\n",
      "2           3      Cheryl Harris     East  Corporate\n",
      "3           4       Cameron King  Central  Corporate\n",
      "4           5          Tanya Kim     West  Corporate\n"
     ]
    }
   ],
   "source": [
    "Customers = pd.read_sql('Select * from Customers',conn)\n",
    "print(Customers.head())"
   ]
  },
  {
   "cell_type": "code",
   "execution_count": 15,
   "id": "3d86ea2d",
   "metadata": {},
   "outputs": [
    {
     "name": "stdout",
     "output_type": "stream",
     "text": [
      "   ProductID     ProductName         Category  Price\n",
      "0        200          Report            Books     89\n",
      "1        201           Shake      Electronics    226\n",
      "2        202           Skill            Books    494\n",
      "3        203            Into  Home Appliances    160\n",
      "4        204  Responsibility            Books    479\n"
     ]
    }
   ],
   "source": [
    "Products = pd.read_sql('Select * from Products',conn)\n",
    "print(Products.head())"
   ]
  },
  {
   "cell_type": "code",
   "execution_count": 16,
   "id": "d2cc47e6",
   "metadata": {},
   "outputs": [
    {
     "name": "stdout",
     "output_type": "stream",
     "text": [
      "   OrderID  Revenue  Discounts  Taxes\n",
      "0     1000     1755         30     65\n",
      "1     1001     1727         76    101\n",
      "2     1002     1834         25     23\n",
      "3     1003      896         94    123\n",
      "4     1004     1868         51     63\n"
     ]
    }
   ],
   "source": [
    "Sales = pd.read_sql('Select * from Sales',conn)\n",
    "print(Sales.head())"
   ]
  },
  {
   "cell_type": "code",
   "execution_count": 17,
   "id": "0a0cac02",
   "metadata": {},
   "outputs": [
    {
     "name": "stdout",
     "output_type": "stream",
     "text": [
      "    OrderDate  CustomerID  ProductID  Quantity  TotalAmount            Name  \\\n",
      "0  2023-02-11           6        212         4          426    Lauren Walls   \n",
      "1  2022-12-23           8        212         6          451   Derek Sanders   \n",
      "2  2023-02-03          28        212         1          665  Bradley Huerta   \n",
      "3  2024-10-16           3        212        10          512   Cheryl Harris   \n",
      "4  2024-11-02          48        212         6          854   Darrell Brady   \n",
      "\n",
      "    Region    Segment ProductName     Category  Price  OrderID  Revenue  \\\n",
      "0     West  Wholesale        Mind  Accessories     67     1000     1755   \n",
      "1  Central     Retail        Mind  Accessories     67     1290      732   \n",
      "2  Central  Corporate        Mind  Accessories     67     1018      594   \n",
      "3     East  Corporate        Mind  Accessories     67     1490     1325   \n",
      "4     East     Retail        Mind  Accessories     67     1471     1038   \n",
      "\n",
      "   Discounts  Taxes  \n",
      "0         30     65  \n",
      "1         25     71  \n",
      "2         33    186  \n",
      "3         80     22  \n",
      "4         31     27  \n"
     ]
    }
   ],
   "source": [
    "df = pd.read_sql('SELECT * FROM Sales_Analysis',conn)\n",
    "print(df.head())"
   ]
  },
  {
   "cell_type": "markdown",
   "id": "51ac9126",
   "metadata": {},
   "source": [
    "# SQL Queries"
   ]
  },
  {
   "cell_type": "markdown",
   "id": "cc527f78",
   "metadata": {},
   "source": [
    "#### 1.Total sales revenue by month."
   ]
  },
  {
   "cell_type": "code",
   "execution_count": 18,
   "id": "5b43d816",
   "metadata": {},
   "outputs": [],
   "source": [
    "# 1.Total sales revenue by month.\n",
    "query = \"\"\"select strftime('%Y-%m',orderdate) as month , sum(Revenue)as TotalRevenue\n",
    "            from Sales_Analysis\n",
    "            group by month\n",
    "            order by month asc;\"\"\" \n",
    "\n",
    "# Reading query as a datafraeme\n",
    "result = pd.read_sql_query(query, conn)\n",
    "\n",
    "# Save the result to a CSV file\n",
    "result.to_csv(\"total_sales_revenue_by_month.csv\", index=False)"
   ]
  },
  {
   "cell_type": "code",
   "execution_count": 19,
   "id": "ff182b47",
   "metadata": {},
   "outputs": [
    {
     "data": {
      "text/html": [
       "<div>\n",
       "<style scoped>\n",
       "    .dataframe tbody tr th:only-of-type {\n",
       "        vertical-align: middle;\n",
       "    }\n",
       "\n",
       "    .dataframe tbody tr th {\n",
       "        vertical-align: top;\n",
       "    }\n",
       "\n",
       "    .dataframe thead th {\n",
       "        text-align: right;\n",
       "    }\n",
       "</style>\n",
       "<table border=\"1\" class=\"dataframe\">\n",
       "  <thead>\n",
       "    <tr style=\"text-align: right;\">\n",
       "      <th></th>\n",
       "      <th>month</th>\n",
       "      <th>TotalRevenue</th>\n",
       "    </tr>\n",
       "  </thead>\n",
       "  <tbody>\n",
       "    <tr>\n",
       "      <th>0</th>\n",
       "      <td>2022-11</td>\n",
       "      <td>9336</td>\n",
       "    </tr>\n",
       "    <tr>\n",
       "      <th>1</th>\n",
       "      <td>2022-12</td>\n",
       "      <td>26988</td>\n",
       "    </tr>\n",
       "    <tr>\n",
       "      <th>2</th>\n",
       "      <td>2023-01</td>\n",
       "      <td>20160</td>\n",
       "    </tr>\n",
       "    <tr>\n",
       "      <th>3</th>\n",
       "      <td>2023-02</td>\n",
       "      <td>17371</td>\n",
       "    </tr>\n",
       "    <tr>\n",
       "      <th>4</th>\n",
       "      <td>2023-03</td>\n",
       "      <td>19860</td>\n",
       "    </tr>\n",
       "    <tr>\n",
       "      <th>5</th>\n",
       "      <td>2023-04</td>\n",
       "      <td>21539</td>\n",
       "    </tr>\n",
       "    <tr>\n",
       "      <th>6</th>\n",
       "      <td>2023-05</td>\n",
       "      <td>24469</td>\n",
       "    </tr>\n",
       "    <tr>\n",
       "      <th>7</th>\n",
       "      <td>2023-06</td>\n",
       "      <td>19051</td>\n",
       "    </tr>\n",
       "    <tr>\n",
       "      <th>8</th>\n",
       "      <td>2023-07</td>\n",
       "      <td>27406</td>\n",
       "    </tr>\n",
       "    <tr>\n",
       "      <th>9</th>\n",
       "      <td>2023-08</td>\n",
       "      <td>23560</td>\n",
       "    </tr>\n",
       "    <tr>\n",
       "      <th>10</th>\n",
       "      <td>2023-09</td>\n",
       "      <td>23331</td>\n",
       "    </tr>\n",
       "    <tr>\n",
       "      <th>11</th>\n",
       "      <td>2023-10</td>\n",
       "      <td>27643</td>\n",
       "    </tr>\n",
       "    <tr>\n",
       "      <th>12</th>\n",
       "      <td>2023-11</td>\n",
       "      <td>19087</td>\n",
       "    </tr>\n",
       "    <tr>\n",
       "      <th>13</th>\n",
       "      <td>2023-12</td>\n",
       "      <td>19243</td>\n",
       "    </tr>\n",
       "    <tr>\n",
       "      <th>14</th>\n",
       "      <td>2024-01</td>\n",
       "      <td>26647</td>\n",
       "    </tr>\n",
       "    <tr>\n",
       "      <th>15</th>\n",
       "      <td>2024-02</td>\n",
       "      <td>14664</td>\n",
       "    </tr>\n",
       "    <tr>\n",
       "      <th>16</th>\n",
       "      <td>2024-03</td>\n",
       "      <td>20148</td>\n",
       "    </tr>\n",
       "    <tr>\n",
       "      <th>17</th>\n",
       "      <td>2024-04</td>\n",
       "      <td>23562</td>\n",
       "    </tr>\n",
       "    <tr>\n",
       "      <th>18</th>\n",
       "      <td>2024-05</td>\n",
       "      <td>30720</td>\n",
       "    </tr>\n",
       "    <tr>\n",
       "      <th>19</th>\n",
       "      <td>2024-06</td>\n",
       "      <td>20219</td>\n",
       "    </tr>\n",
       "    <tr>\n",
       "      <th>20</th>\n",
       "      <td>2024-07</td>\n",
       "      <td>30688</td>\n",
       "    </tr>\n",
       "    <tr>\n",
       "      <th>21</th>\n",
       "      <td>2024-08</td>\n",
       "      <td>23530</td>\n",
       "    </tr>\n",
       "    <tr>\n",
       "      <th>22</th>\n",
       "      <td>2024-09</td>\n",
       "      <td>21056</td>\n",
       "    </tr>\n",
       "    <tr>\n",
       "      <th>23</th>\n",
       "      <td>2024-10</td>\n",
       "      <td>22526</td>\n",
       "    </tr>\n",
       "    <tr>\n",
       "      <th>24</th>\n",
       "      <td>2024-11</td>\n",
       "      <td>11845</td>\n",
       "    </tr>\n",
       "  </tbody>\n",
       "</table>\n",
       "</div>"
      ],
      "text/plain": [
       "      month  TotalRevenue\n",
       "0   2022-11          9336\n",
       "1   2022-12         26988\n",
       "2   2023-01         20160\n",
       "3   2023-02         17371\n",
       "4   2023-03         19860\n",
       "5   2023-04         21539\n",
       "6   2023-05         24469\n",
       "7   2023-06         19051\n",
       "8   2023-07         27406\n",
       "9   2023-08         23560\n",
       "10  2023-09         23331\n",
       "11  2023-10         27643\n",
       "12  2023-11         19087\n",
       "13  2023-12         19243\n",
       "14  2024-01         26647\n",
       "15  2024-02         14664\n",
       "16  2024-03         20148\n",
       "17  2024-04         23562\n",
       "18  2024-05         30720\n",
       "19  2024-06         20219\n",
       "20  2024-07         30688\n",
       "21  2024-08         23530\n",
       "22  2024-09         21056\n",
       "23  2024-10         22526\n",
       "24  2024-11         11845"
      ]
     },
     "execution_count": 19,
     "metadata": {},
     "output_type": "execute_result"
    }
   ],
   "source": [
    "revenue_by_month = pd.read_csv(\"total_sales_revenue_by_month.csv\")\n",
    "revenue_by_month"
   ]
  },
  {
   "cell_type": "markdown",
   "id": "bdbd1a96",
   "metadata": {},
   "source": [
    "#### 2.Top 5 best-selling products."
   ]
  },
  {
   "cell_type": "code",
   "execution_count": 20,
   "id": "c802b049",
   "metadata": {},
   "outputs": [],
   "source": [
    "query2 = \"\"\"SELECT ProductName, sum(quantity)as TotalQuantitySold\n",
    "            from Sales_Analysis\n",
    "            group by ProductID\n",
    "            order by TotalQuantitySold DESC\n",
    "            limit 5;\"\"\"\n",
    "\n",
    "# Reading Query as a Dataframe\n",
    "best_products = pd.read_sql_query(query2,conn)\n",
    "\n",
    "#Converting dataframe into csv\n",
    "best_products.to_csv(\"best_selling_products.csv\",index=False)"
   ]
  },
  {
   "cell_type": "code",
   "execution_count": 21,
   "id": "5758264c",
   "metadata": {},
   "outputs": [
    {
     "data": {
      "text/html": [
       "<div>\n",
       "<style scoped>\n",
       "    .dataframe tbody tr th:only-of-type {\n",
       "        vertical-align: middle;\n",
       "    }\n",
       "\n",
       "    .dataframe tbody tr th {\n",
       "        vertical-align: top;\n",
       "    }\n",
       "\n",
       "    .dataframe thead th {\n",
       "        text-align: right;\n",
       "    }\n",
       "</style>\n",
       "<table border=\"1\" class=\"dataframe\">\n",
       "  <thead>\n",
       "    <tr style=\"text-align: right;\">\n",
       "      <th></th>\n",
       "      <th>ProductName</th>\n",
       "      <th>TotalQuantitySold</th>\n",
       "    </tr>\n",
       "  </thead>\n",
       "  <tbody>\n",
       "    <tr>\n",
       "      <th>0</th>\n",
       "      <td>Card</td>\n",
       "      <td>99</td>\n",
       "    </tr>\n",
       "    <tr>\n",
       "      <th>1</th>\n",
       "      <td>We</td>\n",
       "      <td>96</td>\n",
       "    </tr>\n",
       "    <tr>\n",
       "      <th>2</th>\n",
       "      <td>Notice</td>\n",
       "      <td>88</td>\n",
       "    </tr>\n",
       "    <tr>\n",
       "      <th>3</th>\n",
       "      <td>Size</td>\n",
       "      <td>84</td>\n",
       "    </tr>\n",
       "    <tr>\n",
       "      <th>4</th>\n",
       "      <td>Both</td>\n",
       "      <td>81</td>\n",
       "    </tr>\n",
       "  </tbody>\n",
       "</table>\n",
       "</div>"
      ],
      "text/plain": [
       "  ProductName  TotalQuantitySold\n",
       "0        Card                 99\n",
       "1          We                 96\n",
       "2      Notice                 88\n",
       "3        Size                 84\n",
       "4        Both                 81"
      ]
     },
     "execution_count": 21,
     "metadata": {},
     "output_type": "execute_result"
    }
   ],
   "source": [
    "five_best_selling_products = pd.read_csv('best_selling_products.csv')\n",
    "five_best_selling_products"
   ]
  },
  {
   "cell_type": "markdown",
   "id": "c8e225fe",
   "metadata": {},
   "source": [
    "#### 3.Revenue contribution by customer segments."
   ]
  },
  {
   "cell_type": "code",
   "execution_count": 22,
   "id": "e390a670",
   "metadata": {},
   "outputs": [],
   "source": [
    "query3 = \"\"\"SELECT Segment,sum(TotalAmount) as TotalRevenue\n",
    "            from Sales_Analysis\n",
    "            group by Segment\n",
    "            order by TotalRevenue desc;\"\"\"\n",
    "\n",
    "# Reading Query as a Dataframe\n",
    "Seg_Revenue = pd.read_sql_query(query3,conn)\n",
    "\n",
    "#Converting dataframe into csv\n",
    "Seg_Revenue.to_csv('Revenue_by_segment.csv',index=False)"
   ]
  },
  {
   "cell_type": "code",
   "execution_count": 23,
   "id": "896b57db",
   "metadata": {},
   "outputs": [
    {
     "data": {
      "text/html": [
       "<div>\n",
       "<style scoped>\n",
       "    .dataframe tbody tr th:only-of-type {\n",
       "        vertical-align: middle;\n",
       "    }\n",
       "\n",
       "    .dataframe tbody tr th {\n",
       "        vertical-align: top;\n",
       "    }\n",
       "\n",
       "    .dataframe thead th {\n",
       "        text-align: right;\n",
       "    }\n",
       "</style>\n",
       "<table border=\"1\" class=\"dataframe\">\n",
       "  <thead>\n",
       "    <tr style=\"text-align: right;\">\n",
       "      <th></th>\n",
       "      <th>Segment</th>\n",
       "      <th>TotalRevenue</th>\n",
       "    </tr>\n",
       "  </thead>\n",
       "  <tbody>\n",
       "    <tr>\n",
       "      <th>0</th>\n",
       "      <td>Corporate</td>\n",
       "      <td>112488</td>\n",
       "    </tr>\n",
       "    <tr>\n",
       "      <th>1</th>\n",
       "      <td>Wholesale</td>\n",
       "      <td>74003</td>\n",
       "    </tr>\n",
       "    <tr>\n",
       "      <th>2</th>\n",
       "      <td>Retail</td>\n",
       "      <td>70643</td>\n",
       "    </tr>\n",
       "  </tbody>\n",
       "</table>\n",
       "</div>"
      ],
      "text/plain": [
       "     Segment  TotalRevenue\n",
       "0  Corporate        112488\n",
       "1  Wholesale         74003\n",
       "2     Retail         70643"
      ]
     },
     "execution_count": 23,
     "metadata": {},
     "output_type": "execute_result"
    }
   ],
   "source": [
    "revenue_by_segment = pd.read_csv('Revenue_by_segment.csv')\n",
    "revenue_by_segment"
   ]
  },
  {
   "cell_type": "markdown",
   "id": "d3ec6462",
   "metadata": {},
   "source": [
    "#### 4.Identify the top regions for sales."
   ]
  },
  {
   "cell_type": "code",
   "execution_count": 24,
   "id": "47d69b3e",
   "metadata": {},
   "outputs": [],
   "source": [
    "query4 = \"\"\"SELECT region , sum(TotalAmount) as TotalSales\n",
    "            from Sales_Analysis\n",
    "            group by Region\n",
    "            order by TotalSales desc;\"\"\"\n",
    "\n",
    "# Reading Query as a Dataframe\n",
    "top_reg = pd.read_sql_query(query4,conn)\n",
    "\n",
    "# Converting dataframe into csv\n",
    "top_reg.to_csv('top_sales_region.csv',index=False)"
   ]
  },
  {
   "cell_type": "code",
   "execution_count": 25,
   "id": "e2a0708d",
   "metadata": {},
   "outputs": [
    {
     "data": {
      "text/html": [
       "<div>\n",
       "<style scoped>\n",
       "    .dataframe tbody tr th:only-of-type {\n",
       "        vertical-align: middle;\n",
       "    }\n",
       "\n",
       "    .dataframe tbody tr th {\n",
       "        vertical-align: top;\n",
       "    }\n",
       "\n",
       "    .dataframe thead th {\n",
       "        text-align: right;\n",
       "    }\n",
       "</style>\n",
       "<table border=\"1\" class=\"dataframe\">\n",
       "  <thead>\n",
       "    <tr style=\"text-align: right;\">\n",
       "      <th></th>\n",
       "      <th>Region</th>\n",
       "      <th>TotalSales</th>\n",
       "    </tr>\n",
       "  </thead>\n",
       "  <tbody>\n",
       "    <tr>\n",
       "      <th>0</th>\n",
       "      <td>West</td>\n",
       "      <td>68441</td>\n",
       "    </tr>\n",
       "    <tr>\n",
       "      <th>1</th>\n",
       "      <td>Central</td>\n",
       "      <td>64896</td>\n",
       "    </tr>\n",
       "    <tr>\n",
       "      <th>2</th>\n",
       "      <td>East</td>\n",
       "      <td>55243</td>\n",
       "    </tr>\n",
       "    <tr>\n",
       "      <th>3</th>\n",
       "      <td>North</td>\n",
       "      <td>41054</td>\n",
       "    </tr>\n",
       "    <tr>\n",
       "      <th>4</th>\n",
       "      <td>South</td>\n",
       "      <td>27500</td>\n",
       "    </tr>\n",
       "  </tbody>\n",
       "</table>\n",
       "</div>"
      ],
      "text/plain": [
       "    Region  TotalSales\n",
       "0     West       68441\n",
       "1  Central       64896\n",
       "2     East       55243\n",
       "3    North       41054\n",
       "4    South       27500"
      ]
     },
     "execution_count": 25,
     "metadata": {},
     "output_type": "execute_result"
    }
   ],
   "source": [
    "top_sales_region = pd.read_csv('top_sales_region.csv')\n",
    "top_sales_region"
   ]
  },
  {
   "cell_type": "markdown",
   "id": "a6e928f6",
   "metadata": {},
   "source": [
    "#### Indentify the top-performing Category by revenue"
   ]
  },
  {
   "cell_type": "code",
   "execution_count": 26,
   "id": "44d9851d",
   "metadata": {},
   "outputs": [],
   "source": [
    "query5 = \"\"\"Select category , sum(Revenue) as TotalRevenue\n",
    "            from Sales_Analysis\n",
    "            group by Category\n",
    "            Order by TotalRevenue desc;\"\"\"\n",
    "\n",
    "# Reading Query as a Dataframe\n",
    "top_cat = pd.read_sql_query(query5,conn)\n",
    "\n",
    "# Converting dataframe into csv\n",
    "top_cat.to_csv('top_revenue_category.csv',index = False)\n"
   ]
  },
  {
   "cell_type": "code",
   "execution_count": 27,
   "id": "5252173e",
   "metadata": {},
   "outputs": [
    {
     "data": {
      "text/html": [
       "<div>\n",
       "<style scoped>\n",
       "    .dataframe tbody tr th:only-of-type {\n",
       "        vertical-align: middle;\n",
       "    }\n",
       "\n",
       "    .dataframe tbody tr th {\n",
       "        vertical-align: top;\n",
       "    }\n",
       "\n",
       "    .dataframe thead th {\n",
       "        text-align: right;\n",
       "    }\n",
       "</style>\n",
       "<table border=\"1\" class=\"dataframe\">\n",
       "  <thead>\n",
       "    <tr style=\"text-align: right;\">\n",
       "      <th></th>\n",
       "      <th>Category</th>\n",
       "      <th>TotalRevenue</th>\n",
       "    </tr>\n",
       "  </thead>\n",
       "  <tbody>\n",
       "    <tr>\n",
       "      <th>0</th>\n",
       "      <td>Accessories</td>\n",
       "      <td>147350</td>\n",
       "    </tr>\n",
       "    <tr>\n",
       "      <th>1</th>\n",
       "      <td>Home Appliances</td>\n",
       "      <td>141193</td>\n",
       "    </tr>\n",
       "    <tr>\n",
       "      <th>2</th>\n",
       "      <td>Electronics</td>\n",
       "      <td>136776</td>\n",
       "    </tr>\n",
       "    <tr>\n",
       "      <th>3</th>\n",
       "      <td>Books</td>\n",
       "      <td>119330</td>\n",
       "    </tr>\n",
       "  </tbody>\n",
       "</table>\n",
       "</div>"
      ],
      "text/plain": [
       "          Category  TotalRevenue\n",
       "0      Accessories        147350\n",
       "1  Home Appliances        141193\n",
       "2      Electronics        136776\n",
       "3            Books        119330"
      ]
     },
     "execution_count": 27,
     "metadata": {},
     "output_type": "execute_result"
    }
   ],
   "source": [
    "top_rev_category = pd.read_csv('top_revenue_category.csv')\n",
    "top_rev_category"
   ]
  },
  {
   "cell_type": "markdown",
   "id": "3ccb12c8",
   "metadata": {},
   "source": [
    "# Pandas Tasks"
   ]
  },
  {
   "cell_type": "code",
   "execution_count": null,
   "id": "c112c4d1",
   "metadata": {},
   "outputs": [],
   "source": []
  },
  {
   "cell_type": "code",
   "execution_count": 28,
   "id": "17757352",
   "metadata": {},
   "outputs": [
    {
     "data": {
      "text/html": [
       "<div>\n",
       "<style scoped>\n",
       "    .dataframe tbody tr th:only-of-type {\n",
       "        vertical-align: middle;\n",
       "    }\n",
       "\n",
       "    .dataframe tbody tr th {\n",
       "        vertical-align: top;\n",
       "    }\n",
       "\n",
       "    .dataframe thead th {\n",
       "        text-align: right;\n",
       "    }\n",
       "</style>\n",
       "<table border=\"1\" class=\"dataframe\">\n",
       "  <thead>\n",
       "    <tr style=\"text-align: right;\">\n",
       "      <th></th>\n",
       "      <th>OrderDate</th>\n",
       "      <th>CustomerID</th>\n",
       "      <th>ProductID</th>\n",
       "      <th>Quantity</th>\n",
       "      <th>TotalAmount</th>\n",
       "      <th>Name</th>\n",
       "      <th>Region</th>\n",
       "      <th>Segment</th>\n",
       "      <th>ProductName</th>\n",
       "      <th>Category</th>\n",
       "      <th>Price</th>\n",
       "      <th>OrderID</th>\n",
       "      <th>Revenue</th>\n",
       "      <th>Discounts</th>\n",
       "      <th>Taxes</th>\n",
       "    </tr>\n",
       "  </thead>\n",
       "  <tbody>\n",
       "    <tr>\n",
       "      <th>0</th>\n",
       "      <td>2023-02-11</td>\n",
       "      <td>6</td>\n",
       "      <td>212</td>\n",
       "      <td>4</td>\n",
       "      <td>426</td>\n",
       "      <td>Lauren Walls</td>\n",
       "      <td>West</td>\n",
       "      <td>Wholesale</td>\n",
       "      <td>Mind</td>\n",
       "      <td>Accessories</td>\n",
       "      <td>67</td>\n",
       "      <td>1000</td>\n",
       "      <td>1755</td>\n",
       "      <td>30</td>\n",
       "      <td>65</td>\n",
       "    </tr>\n",
       "    <tr>\n",
       "      <th>1</th>\n",
       "      <td>2022-12-23</td>\n",
       "      <td>8</td>\n",
       "      <td>212</td>\n",
       "      <td>6</td>\n",
       "      <td>451</td>\n",
       "      <td>Derek Sanders</td>\n",
       "      <td>Central</td>\n",
       "      <td>Retail</td>\n",
       "      <td>Mind</td>\n",
       "      <td>Accessories</td>\n",
       "      <td>67</td>\n",
       "      <td>1290</td>\n",
       "      <td>732</td>\n",
       "      <td>25</td>\n",
       "      <td>71</td>\n",
       "    </tr>\n",
       "    <tr>\n",
       "      <th>2</th>\n",
       "      <td>2023-02-03</td>\n",
       "      <td>28</td>\n",
       "      <td>212</td>\n",
       "      <td>1</td>\n",
       "      <td>665</td>\n",
       "      <td>Bradley Huerta</td>\n",
       "      <td>Central</td>\n",
       "      <td>Corporate</td>\n",
       "      <td>Mind</td>\n",
       "      <td>Accessories</td>\n",
       "      <td>67</td>\n",
       "      <td>1018</td>\n",
       "      <td>594</td>\n",
       "      <td>33</td>\n",
       "      <td>186</td>\n",
       "    </tr>\n",
       "    <tr>\n",
       "      <th>3</th>\n",
       "      <td>2024-10-16</td>\n",
       "      <td>3</td>\n",
       "      <td>212</td>\n",
       "      <td>10</td>\n",
       "      <td>512</td>\n",
       "      <td>Cheryl Harris</td>\n",
       "      <td>East</td>\n",
       "      <td>Corporate</td>\n",
       "      <td>Mind</td>\n",
       "      <td>Accessories</td>\n",
       "      <td>67</td>\n",
       "      <td>1490</td>\n",
       "      <td>1325</td>\n",
       "      <td>80</td>\n",
       "      <td>22</td>\n",
       "    </tr>\n",
       "    <tr>\n",
       "      <th>4</th>\n",
       "      <td>2024-11-02</td>\n",
       "      <td>48</td>\n",
       "      <td>212</td>\n",
       "      <td>6</td>\n",
       "      <td>854</td>\n",
       "      <td>Darrell Brady</td>\n",
       "      <td>East</td>\n",
       "      <td>Retail</td>\n",
       "      <td>Mind</td>\n",
       "      <td>Accessories</td>\n",
       "      <td>67</td>\n",
       "      <td>1471</td>\n",
       "      <td>1038</td>\n",
       "      <td>31</td>\n",
       "      <td>27</td>\n",
       "    </tr>\n",
       "  </tbody>\n",
       "</table>\n",
       "</div>"
      ],
      "text/plain": [
       "    OrderDate  CustomerID  ProductID  Quantity  TotalAmount            Name  \\\n",
       "0  2023-02-11           6        212         4          426    Lauren Walls   \n",
       "1  2022-12-23           8        212         6          451   Derek Sanders   \n",
       "2  2023-02-03          28        212         1          665  Bradley Huerta   \n",
       "3  2024-10-16           3        212        10          512   Cheryl Harris   \n",
       "4  2024-11-02          48        212         6          854   Darrell Brady   \n",
       "\n",
       "    Region    Segment ProductName     Category  Price  OrderID  Revenue  \\\n",
       "0     West  Wholesale        Mind  Accessories     67     1000     1755   \n",
       "1  Central     Retail        Mind  Accessories     67     1290      732   \n",
       "2  Central  Corporate        Mind  Accessories     67     1018      594   \n",
       "3     East  Corporate        Mind  Accessories     67     1490     1325   \n",
       "4     East     Retail        Mind  Accessories     67     1471     1038   \n",
       "\n",
       "   Discounts  Taxes  \n",
       "0         30     65  \n",
       "1         25     71  \n",
       "2         33    186  \n",
       "3         80     22  \n",
       "4         31     27  "
      ]
     },
     "execution_count": 28,
     "metadata": {},
     "output_type": "execute_result"
    }
   ],
   "source": [
    "Sales_Analysis.head()"
   ]
  },
  {
   "cell_type": "code",
   "execution_count": 29,
   "id": "0efb5554",
   "metadata": {},
   "outputs": [
    {
     "data": {
      "text/plain": [
       "(484, 15)"
      ]
     },
     "execution_count": 29,
     "metadata": {},
     "output_type": "execute_result"
    }
   ],
   "source": [
    "Sales_Analysis.shape"
   ]
  },
  {
   "cell_type": "markdown",
   "id": "5aa14e7f",
   "metadata": {},
   "source": [
    "### Cleaning Data"
   ]
  },
  {
   "cell_type": "code",
   "execution_count": 30,
   "id": "cb16d194",
   "metadata": {},
   "outputs": [
    {
     "data": {
      "text/plain": [
       "OrderDate      0\n",
       "CustomerID     0\n",
       "ProductID      0\n",
       "Quantity       0\n",
       "TotalAmount    0\n",
       "Name           0\n",
       "Region         0\n",
       "Segment        0\n",
       "ProductName    0\n",
       "Category       0\n",
       "Price          0\n",
       "OrderID        0\n",
       "Revenue        0\n",
       "Discounts      0\n",
       "Taxes          0\n",
       "dtype: int64"
      ]
     },
     "execution_count": 30,
     "metadata": {},
     "output_type": "execute_result"
    }
   ],
   "source": [
    "Sales_Analysis.isnull().sum()"
   ]
  },
  {
   "cell_type": "markdown",
   "id": "a9b27c31",
   "metadata": {},
   "source": [
    "There is no missing value in a data set"
   ]
  },
  {
   "cell_type": "code",
   "execution_count": 31,
   "id": "64d17e01",
   "metadata": {},
   "outputs": [
    {
     "data": {
      "text/plain": [
       "OrderDate      object\n",
       "CustomerID      int64\n",
       "ProductID       int64\n",
       "Quantity        int64\n",
       "TotalAmount     int64\n",
       "Name           object\n",
       "Region         object\n",
       "Segment        object\n",
       "ProductName    object\n",
       "Category       object\n",
       "Price           int64\n",
       "OrderID         int64\n",
       "Revenue         int64\n",
       "Discounts       int64\n",
       "Taxes           int64\n",
       "dtype: object"
      ]
     },
     "execution_count": 31,
     "metadata": {},
     "output_type": "execute_result"
    }
   ],
   "source": [
    "Sales_Analysis.dtypes"
   ]
  },
  {
   "cell_type": "markdown",
   "id": "cca76f25",
   "metadata": {},
   "source": [
    "We need to change data type of OrderDate from object to Date"
   ]
  },
  {
   "cell_type": "code",
   "execution_count": 32,
   "id": "045a088f",
   "metadata": {},
   "outputs": [],
   "source": [
    "# Converting orderdate type from object to date\n",
    "Sales_Analysis['OrderDate'] = pd.to_datetime(Sales_Analysis['OrderDate'])"
   ]
  },
  {
   "cell_type": "code",
   "execution_count": 33,
   "id": "1c66d6c6",
   "metadata": {},
   "outputs": [
    {
     "data": {
      "text/plain": [
       "OrderDate      datetime64[ns]\n",
       "CustomerID              int64\n",
       "ProductID               int64\n",
       "Quantity                int64\n",
       "TotalAmount             int64\n",
       "Name                   object\n",
       "Region                 object\n",
       "Segment                object\n",
       "ProductName            object\n",
       "Category               object\n",
       "Price                   int64\n",
       "OrderID                 int64\n",
       "Revenue                 int64\n",
       "Discounts               int64\n",
       "Taxes                   int64\n",
       "dtype: object"
      ]
     },
     "execution_count": 33,
     "metadata": {},
     "output_type": "execute_result"
    }
   ],
   "source": [
    "Sales_Analysis.dtypes"
   ]
  },
  {
   "cell_type": "code",
   "execution_count": 34,
   "id": "f13f5b59",
   "metadata": {},
   "outputs": [
    {
     "data": {
      "text/plain": [
       "0      False\n",
       "1      False\n",
       "2      False\n",
       "3      False\n",
       "4      False\n",
       "       ...  \n",
       "479    False\n",
       "480    False\n",
       "481    False\n",
       "482    False\n",
       "483    False\n",
       "Length: 484, dtype: bool"
      ]
     },
     "execution_count": 34,
     "metadata": {},
     "output_type": "execute_result"
    }
   ],
   "source": [
    "# Checking duplicates\n",
    "Sales_Analysis.duplicated()"
   ]
  },
  {
   "cell_type": "markdown",
   "id": "7c79aab9",
   "metadata": {},
   "source": [
    "Perfect! Our Dataset is ready for EDA"
   ]
  },
  {
   "cell_type": "markdown",
   "id": "d261b635",
   "metadata": {},
   "source": [
    "# EDA"
   ]
  },
  {
   "cell_type": "code",
   "execution_count": 35,
   "id": "5f0c9f9c",
   "metadata": {},
   "outputs": [
    {
     "data": {
      "text/html": [
       "<div>\n",
       "<style scoped>\n",
       "    .dataframe tbody tr th:only-of-type {\n",
       "        vertical-align: middle;\n",
       "    }\n",
       "\n",
       "    .dataframe tbody tr th {\n",
       "        vertical-align: top;\n",
       "    }\n",
       "\n",
       "    .dataframe thead th {\n",
       "        text-align: right;\n",
       "    }\n",
       "</style>\n",
       "<table border=\"1\" class=\"dataframe\">\n",
       "  <thead>\n",
       "    <tr style=\"text-align: right;\">\n",
       "      <th></th>\n",
       "      <th>CustomerID</th>\n",
       "      <th>ProductID</th>\n",
       "      <th>Quantity</th>\n",
       "      <th>TotalAmount</th>\n",
       "      <th>Price</th>\n",
       "      <th>OrderID</th>\n",
       "      <th>Revenue</th>\n",
       "      <th>Discounts</th>\n",
       "      <th>Taxes</th>\n",
       "    </tr>\n",
       "  </thead>\n",
       "  <tbody>\n",
       "    <tr>\n",
       "      <th>count</th>\n",
       "      <td>484.000000</td>\n",
       "      <td>484.000000</td>\n",
       "      <td>484.000000</td>\n",
       "      <td>484.000000</td>\n",
       "      <td>484.000000</td>\n",
       "      <td>484.000000</td>\n",
       "      <td>484.000000</td>\n",
       "      <td>484.000000</td>\n",
       "      <td>484.000000</td>\n",
       "    </tr>\n",
       "    <tr>\n",
       "      <th>mean</th>\n",
       "      <td>24.954545</td>\n",
       "      <td>224.679752</td>\n",
       "      <td>5.504132</td>\n",
       "      <td>531.268595</td>\n",
       "      <td>287.700413</td>\n",
       "      <td>1250.206612</td>\n",
       "      <td>1125.307851</td>\n",
       "      <td>50.809917</td>\n",
       "      <td>101.363636</td>\n",
       "    </tr>\n",
       "    <tr>\n",
       "      <th>std</th>\n",
       "      <td>14.451962</td>\n",
       "      <td>14.008232</td>\n",
       "      <td>2.895342</td>\n",
       "      <td>261.196693</td>\n",
       "      <td>121.988659</td>\n",
       "      <td>144.590872</td>\n",
       "      <td>520.309860</td>\n",
       "      <td>28.998912</td>\n",
       "      <td>54.921627</td>\n",
       "    </tr>\n",
       "    <tr>\n",
       "      <th>min</th>\n",
       "      <td>1.000000</td>\n",
       "      <td>201.000000</td>\n",
       "      <td>1.000000</td>\n",
       "      <td>101.000000</td>\n",
       "      <td>57.000000</td>\n",
       "      <td>1000.000000</td>\n",
       "      <td>200.000000</td>\n",
       "      <td>0.000000</td>\n",
       "      <td>10.000000</td>\n",
       "    </tr>\n",
       "    <tr>\n",
       "      <th>25%</th>\n",
       "      <td>12.000000</td>\n",
       "      <td>213.000000</td>\n",
       "      <td>3.000000</td>\n",
       "      <td>309.500000</td>\n",
       "      <td>191.000000</td>\n",
       "      <td>1124.750000</td>\n",
       "      <td>701.500000</td>\n",
       "      <td>26.000000</td>\n",
       "      <td>55.750000</td>\n",
       "    </tr>\n",
       "    <tr>\n",
       "      <th>50%</th>\n",
       "      <td>25.000000</td>\n",
       "      <td>224.000000</td>\n",
       "      <td>6.000000</td>\n",
       "      <td>531.000000</td>\n",
       "      <td>292.000000</td>\n",
       "      <td>1251.500000</td>\n",
       "      <td>1118.000000</td>\n",
       "      <td>49.500000</td>\n",
       "      <td>97.000000</td>\n",
       "    </tr>\n",
       "    <tr>\n",
       "      <th>75%</th>\n",
       "      <td>38.000000</td>\n",
       "      <td>237.000000</td>\n",
       "      <td>8.000000</td>\n",
       "      <td>751.250000</td>\n",
       "      <td>383.000000</td>\n",
       "      <td>1375.250000</td>\n",
       "      <td>1602.250000</td>\n",
       "      <td>75.250000</td>\n",
       "      <td>149.250000</td>\n",
       "    </tr>\n",
       "    <tr>\n",
       "      <th>max</th>\n",
       "      <td>50.000000</td>\n",
       "      <td>249.000000</td>\n",
       "      <td>10.000000</td>\n",
       "      <td>1000.000000</td>\n",
       "      <td>494.000000</td>\n",
       "      <td>1499.000000</td>\n",
       "      <td>2000.000000</td>\n",
       "      <td>100.000000</td>\n",
       "      <td>199.000000</td>\n",
       "    </tr>\n",
       "  </tbody>\n",
       "</table>\n",
       "</div>"
      ],
      "text/plain": [
       "       CustomerID   ProductID    Quantity  TotalAmount       Price  \\\n",
       "count  484.000000  484.000000  484.000000   484.000000  484.000000   \n",
       "mean    24.954545  224.679752    5.504132   531.268595  287.700413   \n",
       "std     14.451962   14.008232    2.895342   261.196693  121.988659   \n",
       "min      1.000000  201.000000    1.000000   101.000000   57.000000   \n",
       "25%     12.000000  213.000000    3.000000   309.500000  191.000000   \n",
       "50%     25.000000  224.000000    6.000000   531.000000  292.000000   \n",
       "75%     38.000000  237.000000    8.000000   751.250000  383.000000   \n",
       "max     50.000000  249.000000   10.000000  1000.000000  494.000000   \n",
       "\n",
       "           OrderID      Revenue   Discounts       Taxes  \n",
       "count   484.000000   484.000000  484.000000  484.000000  \n",
       "mean   1250.206612  1125.307851   50.809917  101.363636  \n",
       "std     144.590872   520.309860   28.998912   54.921627  \n",
       "min    1000.000000   200.000000    0.000000   10.000000  \n",
       "25%    1124.750000   701.500000   26.000000   55.750000  \n",
       "50%    1251.500000  1118.000000   49.500000   97.000000  \n",
       "75%    1375.250000  1602.250000   75.250000  149.250000  \n",
       "max    1499.000000  2000.000000  100.000000  199.000000  "
      ]
     },
     "execution_count": 35,
     "metadata": {},
     "output_type": "execute_result"
    }
   ],
   "source": [
    "Sales_Analysis.describe()"
   ]
  },
  {
   "cell_type": "code",
   "execution_count": 36,
   "id": "01c667ee",
   "metadata": {},
   "outputs": [
    {
     "data": {
      "text/plain": [
       "array(['West', 'Central', 'East', 'North', 'South'], dtype=object)"
      ]
     },
     "execution_count": 36,
     "metadata": {},
     "output_type": "execute_result"
    }
   ],
   "source": [
    "Sales_Analysis['Region'].unique()"
   ]
  },
  {
   "cell_type": "code",
   "execution_count": 37,
   "id": "3db4a895",
   "metadata": {},
   "outputs": [
    {
     "data": {
      "text/plain": [
       "array(['Wholesale', 'Retail', 'Corporate'], dtype=object)"
      ]
     },
     "execution_count": 37,
     "metadata": {},
     "output_type": "execute_result"
    }
   ],
   "source": [
    "Sales_Analysis['Segment'].unique()"
   ]
  },
  {
   "cell_type": "code",
   "execution_count": 38,
   "id": "39d72d63",
   "metadata": {},
   "outputs": [
    {
     "data": {
      "text/plain": [
       "array(['Mind', 'Maybe', 'Present', 'We', 'Hope', 'Price', 'Story', 'Like',\n",
       "       'Friend', 'Suffer', 'Enter', 'Card', 'Despite', 'Notice', 'System',\n",
       "       'Role', 'Size', 'Behavior', 'Your', 'Level', 'Both', 'Gun',\n",
       "       'North', 'Happen', 'Responsibility', 'Care', 'Guess', 'Guy',\n",
       "       'Voice', 'Just', 'Dream', 'Dog', 'Into', 'Shake', 'Catch',\n",
       "       'Answer', 'Heavy', 'Skill', 'Dinner', 'Explain', 'Argue',\n",
       "       'Process', 'Nor', 'Available', 'Protect', 'Pull', 'Performance',\n",
       "       'Truth'], dtype=object)"
      ]
     },
     "execution_count": 38,
     "metadata": {},
     "output_type": "execute_result"
    }
   ],
   "source": [
    "Sales_Analysis['ProductName'].unique()"
   ]
  },
  {
   "cell_type": "code",
   "execution_count": 39,
   "id": "723df741",
   "metadata": {},
   "outputs": [
    {
     "data": {
      "text/plain": [
       "array(['Accessories', 'Home Appliances', 'Electronics', 'Books'],\n",
       "      dtype=object)"
      ]
     },
     "execution_count": 39,
     "metadata": {},
     "output_type": "execute_result"
    }
   ],
   "source": [
    "Sales_Analysis['Category'].unique()"
   ]
  },
  {
   "cell_type": "markdown",
   "id": "e6fa4b56",
   "metadata": {},
   "source": [
    "#### Which region has the highest average transaction value?"
   ]
  },
  {
   "cell_type": "code",
   "execution_count": 40,
   "id": "275adf91",
   "metadata": {},
   "outputs": [
    {
     "data": {
      "text/html": [
       "<div>\n",
       "<style scoped>\n",
       "    .dataframe tbody tr th:only-of-type {\n",
       "        vertical-align: middle;\n",
       "    }\n",
       "\n",
       "    .dataframe tbody tr th {\n",
       "        vertical-align: top;\n",
       "    }\n",
       "\n",
       "    .dataframe thead th {\n",
       "        text-align: right;\n",
       "    }\n",
       "</style>\n",
       "<table border=\"1\" class=\"dataframe\">\n",
       "  <thead>\n",
       "    <tr style=\"text-align: right;\">\n",
       "      <th></th>\n",
       "      <th>Region</th>\n",
       "      <th>Revenue</th>\n",
       "    </tr>\n",
       "  </thead>\n",
       "  <tbody>\n",
       "    <tr>\n",
       "      <th>4</th>\n",
       "      <td>West</td>\n",
       "      <td>1155.185185</td>\n",
       "    </tr>\n",
       "  </tbody>\n",
       "</table>\n",
       "</div>"
      ],
      "text/plain": [
       "  Region      Revenue\n",
       "4   West  1155.185185"
      ]
     },
     "execution_count": 40,
     "metadata": {},
     "output_type": "execute_result"
    }
   ],
   "source": [
    "avg_revenue_by_region = Sales_Analysis.groupby('Region')['Revenue'].mean().reset_index()\n",
    "\n",
    "# Sort the regions by average revenue in descending order to find the highest\n",
    "highest_avg_revenue_region = avg_revenue_by_region.sort_values(by='Revenue', ascending=False).head(1)\n",
    "highest_avg_revenue_region"
   ]
  },
  {
   "cell_type": "markdown",
   "id": "59ae2713",
   "metadata": {},
   "source": [
    "#### Which months have the highest and lowest sales across different categories?\n"
   ]
  },
  {
   "cell_type": "code",
   "execution_count": 41,
   "id": "5869ee5d",
   "metadata": {},
   "outputs": [],
   "source": [
    "Sales_Analysis['Month'] = Sales_Analysis['OrderDate'].dt.to_period('M')  # 'M' gives year-month format (e.g., 2024-12)\n",
    "\n",
    "# Group by Month and Category and calculate the total revenue for each group\n",
    "sales_by_month_category = Sales_Analysis.groupby(['Month', 'Category'])['Revenue'].sum().reset_index()\n",
    "\n",
    "# Find the months with the highest and lowest total sales across categories\n",
    "highest_sales = sales_by_month_category.loc[sales_by_month_category.groupby('Category')['Revenue'].idxmax()]\n",
    "lowest_sales = sales_by_month_category.loc[sales_by_month_category.groupby('Category')['Revenue'].idxmin()]"
   ]
  },
  {
   "cell_type": "code",
   "execution_count": 42,
   "id": "ecccd094",
   "metadata": {},
   "outputs": [
    {
     "data": {
      "text/html": [
       "<div>\n",
       "<style scoped>\n",
       "    .dataframe tbody tr th:only-of-type {\n",
       "        vertical-align: middle;\n",
       "    }\n",
       "\n",
       "    .dataframe tbody tr th {\n",
       "        vertical-align: top;\n",
       "    }\n",
       "\n",
       "    .dataframe thead th {\n",
       "        text-align: right;\n",
       "    }\n",
       "</style>\n",
       "<table border=\"1\" class=\"dataframe\">\n",
       "  <thead>\n",
       "    <tr style=\"text-align: right;\">\n",
       "      <th></th>\n",
       "      <th>Month</th>\n",
       "      <th>Category</th>\n",
       "      <th>Revenue</th>\n",
       "    </tr>\n",
       "  </thead>\n",
       "  <tbody>\n",
       "    <tr>\n",
       "      <th>80</th>\n",
       "      <td>2024-07</td>\n",
       "      <td>Accessories</td>\n",
       "      <td>10964</td>\n",
       "    </tr>\n",
       "    <tr>\n",
       "      <th>33</th>\n",
       "      <td>2023-07</td>\n",
       "      <td>Books</td>\n",
       "      <td>10117</td>\n",
       "    </tr>\n",
       "    <tr>\n",
       "      <th>94</th>\n",
       "      <td>2024-10</td>\n",
       "      <td>Electronics</td>\n",
       "      <td>10210</td>\n",
       "    </tr>\n",
       "    <tr>\n",
       "      <th>47</th>\n",
       "      <td>2023-10</td>\n",
       "      <td>Home Appliances</td>\n",
       "      <td>10696</td>\n",
       "    </tr>\n",
       "  </tbody>\n",
       "</table>\n",
       "</div>"
      ],
      "text/plain": [
       "      Month         Category  Revenue\n",
       "80  2024-07      Accessories    10964\n",
       "33  2023-07            Books    10117\n",
       "94  2024-10      Electronics    10210\n",
       "47  2023-10  Home Appliances    10696"
      ]
     },
     "execution_count": 42,
     "metadata": {},
     "output_type": "execute_result"
    }
   ],
   "source": [
    "highest_sales"
   ]
  },
  {
   "cell_type": "code",
   "execution_count": 43,
   "id": "8532b3ae",
   "metadata": {},
   "outputs": [
    {
     "data": {
      "text/html": [
       "<div>\n",
       "<style scoped>\n",
       "    .dataframe tbody tr th:only-of-type {\n",
       "        vertical-align: middle;\n",
       "    }\n",
       "\n",
       "    .dataframe tbody tr th {\n",
       "        vertical-align: top;\n",
       "    }\n",
       "\n",
       "    .dataframe thead th {\n",
       "        text-align: right;\n",
       "    }\n",
       "</style>\n",
       "<table border=\"1\" class=\"dataframe\">\n",
       "  <thead>\n",
       "    <tr style=\"text-align: right;\">\n",
       "      <th></th>\n",
       "      <th>Month</th>\n",
       "      <th>Category</th>\n",
       "      <th>Revenue</th>\n",
       "    </tr>\n",
       "  </thead>\n",
       "  <tbody>\n",
       "    <tr>\n",
       "      <th>96</th>\n",
       "      <td>2024-11</td>\n",
       "      <td>Accessories</td>\n",
       "      <td>1756</td>\n",
       "    </tr>\n",
       "    <tr>\n",
       "      <th>69</th>\n",
       "      <td>2024-04</td>\n",
       "      <td>Books</td>\n",
       "      <td>617</td>\n",
       "    </tr>\n",
       "    <tr>\n",
       "      <th>98</th>\n",
       "      <td>2024-11</td>\n",
       "      <td>Electronics</td>\n",
       "      <td>1405</td>\n",
       "    </tr>\n",
       "    <tr>\n",
       "      <th>3</th>\n",
       "      <td>2022-11</td>\n",
       "      <td>Home Appliances</td>\n",
       "      <td>625</td>\n",
       "    </tr>\n",
       "  </tbody>\n",
       "</table>\n",
       "</div>"
      ],
      "text/plain": [
       "      Month         Category  Revenue\n",
       "96  2024-11      Accessories     1756\n",
       "69  2024-04            Books      617\n",
       "98  2024-11      Electronics     1405\n",
       "3   2022-11  Home Appliances      625"
      ]
     },
     "execution_count": 43,
     "metadata": {},
     "output_type": "execute_result"
    }
   ],
   "source": [
    "lowest_sales"
   ]
  },
  {
   "cell_type": "markdown",
   "id": "19621354",
   "metadata": {},
   "source": [
    "#### Which regions or categories have the lowest sales performance and need attention?"
   ]
  },
  {
   "cell_type": "code",
   "execution_count": 44,
   "id": "9af73a8e",
   "metadata": {},
   "outputs": [
    {
     "data": {
      "text/html": [
       "<div>\n",
       "<style scoped>\n",
       "    .dataframe tbody tr th:only-of-type {\n",
       "        vertical-align: middle;\n",
       "    }\n",
       "\n",
       "    .dataframe tbody tr th {\n",
       "        vertical-align: top;\n",
       "    }\n",
       "\n",
       "    .dataframe thead th {\n",
       "        text-align: right;\n",
       "    }\n",
       "</style>\n",
       "<table border=\"1\" class=\"dataframe\">\n",
       "  <thead>\n",
       "    <tr style=\"text-align: right;\">\n",
       "      <th></th>\n",
       "      <th>Region</th>\n",
       "      <th>Category</th>\n",
       "      <th>Revenue</th>\n",
       "    </tr>\n",
       "  </thead>\n",
       "  <tbody>\n",
       "    <tr>\n",
       "      <th>12</th>\n",
       "      <td>South</td>\n",
       "      <td>Accessories</td>\n",
       "      <td>6553</td>\n",
       "    </tr>\n",
       "  </tbody>\n",
       "</table>\n",
       "</div>"
      ],
      "text/plain": [
       "   Region     Category  Revenue\n",
       "12  South  Accessories     6553"
      ]
     },
     "execution_count": 44,
     "metadata": {},
     "output_type": "execute_result"
    }
   ],
   "source": [
    "sales_by_reg_cat = Sales_Analysis.groupby(['Region','Category'])['Revenue'].sum().reset_index()\n",
    "sales_by_reg_cat.sort_values(by ='Revenue' , ascending = True).head(1)"
   ]
  },
  {
   "cell_type": "markdown",
   "id": "af2f6b47",
   "metadata": {},
   "source": [
    "#### What are the max quantity orderd by customer"
   ]
  },
  {
   "cell_type": "code",
   "execution_count": 45,
   "id": "aa45c687",
   "metadata": {},
   "outputs": [
    {
     "data": {
      "text/html": [
       "<div>\n",
       "<style scoped>\n",
       "    .dataframe tbody tr th:only-of-type {\n",
       "        vertical-align: middle;\n",
       "    }\n",
       "\n",
       "    .dataframe tbody tr th {\n",
       "        vertical-align: top;\n",
       "    }\n",
       "\n",
       "    .dataframe thead th {\n",
       "        text-align: right;\n",
       "    }\n",
       "</style>\n",
       "<table border=\"1\" class=\"dataframe\">\n",
       "  <thead>\n",
       "    <tr style=\"text-align: right;\">\n",
       "      <th></th>\n",
       "      <th></th>\n",
       "      <th>Quantity</th>\n",
       "    </tr>\n",
       "    <tr>\n",
       "      <th>Name</th>\n",
       "      <th>OrderDate</th>\n",
       "      <th></th>\n",
       "    </tr>\n",
       "  </thead>\n",
       "  <tbody>\n",
       "    <tr>\n",
       "      <th>Cheryl Harris</th>\n",
       "      <th>2024-10-16</th>\n",
       "      <td>10</td>\n",
       "    </tr>\n",
       "  </tbody>\n",
       "</table>\n",
       "</div>"
      ],
      "text/plain": [
       "                          Quantity\n",
       "Name          OrderDate           \n",
       "Cheryl Harris 2024-10-16        10"
      ]
     },
     "execution_count": 45,
     "metadata": {},
     "output_type": "execute_result"
    }
   ],
   "source": [
    "highest_quantity= Sales_Analysis.groupby(['Name','OrderDate']).agg({'Quantity':'max'}).sort_values(by=['Quantity','OrderDate'],ascending = False)\n",
    "highest_quantity.head(1)"
   ]
  },
  {
   "cell_type": "markdown",
   "id": "1b236801",
   "metadata": {},
   "source": [
    "# Feature Engineering"
   ]
  },
  {
   "cell_type": "markdown",
   "id": "1a48fb22",
   "metadata": {},
   "source": [
    "#### Revenue per product"
   ]
  },
  {
   "cell_type": "code",
   "execution_count": 46,
   "id": "2b91d9f9",
   "metadata": {},
   "outputs": [
    {
     "data": {
      "text/html": [
       "<div>\n",
       "<style scoped>\n",
       "    .dataframe tbody tr th:only-of-type {\n",
       "        vertical-align: middle;\n",
       "    }\n",
       "\n",
       "    .dataframe tbody tr th {\n",
       "        vertical-align: top;\n",
       "    }\n",
       "\n",
       "    .dataframe thead th {\n",
       "        text-align: right;\n",
       "    }\n",
       "</style>\n",
       "<table border=\"1\" class=\"dataframe\">\n",
       "  <thead>\n",
       "    <tr style=\"text-align: right;\">\n",
       "      <th></th>\n",
       "      <th>OrderDate</th>\n",
       "      <th>CustomerID</th>\n",
       "      <th>ProductID</th>\n",
       "      <th>Quantity</th>\n",
       "      <th>TotalAmount</th>\n",
       "      <th>Name</th>\n",
       "      <th>Region</th>\n",
       "      <th>Segment</th>\n",
       "      <th>ProductName</th>\n",
       "      <th>Category</th>\n",
       "      <th>Price</th>\n",
       "      <th>OrderID</th>\n",
       "      <th>Revenue</th>\n",
       "      <th>Discounts</th>\n",
       "      <th>Taxes</th>\n",
       "      <th>Month</th>\n",
       "      <th>Revenue_per_product</th>\n",
       "    </tr>\n",
       "  </thead>\n",
       "  <tbody>\n",
       "    <tr>\n",
       "      <th>0</th>\n",
       "      <td>2023-02-11</td>\n",
       "      <td>6</td>\n",
       "      <td>212</td>\n",
       "      <td>4</td>\n",
       "      <td>426</td>\n",
       "      <td>Lauren Walls</td>\n",
       "      <td>West</td>\n",
       "      <td>Wholesale</td>\n",
       "      <td>Mind</td>\n",
       "      <td>Accessories</td>\n",
       "      <td>67</td>\n",
       "      <td>1000</td>\n",
       "      <td>1755</td>\n",
       "      <td>30</td>\n",
       "      <td>65</td>\n",
       "      <td>2023-02</td>\n",
       "      <td>438.75</td>\n",
       "    </tr>\n",
       "    <tr>\n",
       "      <th>1</th>\n",
       "      <td>2022-12-23</td>\n",
       "      <td>8</td>\n",
       "      <td>212</td>\n",
       "      <td>6</td>\n",
       "      <td>451</td>\n",
       "      <td>Derek Sanders</td>\n",
       "      <td>Central</td>\n",
       "      <td>Retail</td>\n",
       "      <td>Mind</td>\n",
       "      <td>Accessories</td>\n",
       "      <td>67</td>\n",
       "      <td>1290</td>\n",
       "      <td>732</td>\n",
       "      <td>25</td>\n",
       "      <td>71</td>\n",
       "      <td>2022-12</td>\n",
       "      <td>122.00</td>\n",
       "    </tr>\n",
       "    <tr>\n",
       "      <th>2</th>\n",
       "      <td>2023-02-03</td>\n",
       "      <td>28</td>\n",
       "      <td>212</td>\n",
       "      <td>1</td>\n",
       "      <td>665</td>\n",
       "      <td>Bradley Huerta</td>\n",
       "      <td>Central</td>\n",
       "      <td>Corporate</td>\n",
       "      <td>Mind</td>\n",
       "      <td>Accessories</td>\n",
       "      <td>67</td>\n",
       "      <td>1018</td>\n",
       "      <td>594</td>\n",
       "      <td>33</td>\n",
       "      <td>186</td>\n",
       "      <td>2023-02</td>\n",
       "      <td>594.00</td>\n",
       "    </tr>\n",
       "    <tr>\n",
       "      <th>3</th>\n",
       "      <td>2024-10-16</td>\n",
       "      <td>3</td>\n",
       "      <td>212</td>\n",
       "      <td>10</td>\n",
       "      <td>512</td>\n",
       "      <td>Cheryl Harris</td>\n",
       "      <td>East</td>\n",
       "      <td>Corporate</td>\n",
       "      <td>Mind</td>\n",
       "      <td>Accessories</td>\n",
       "      <td>67</td>\n",
       "      <td>1490</td>\n",
       "      <td>1325</td>\n",
       "      <td>80</td>\n",
       "      <td>22</td>\n",
       "      <td>2024-10</td>\n",
       "      <td>132.50</td>\n",
       "    </tr>\n",
       "    <tr>\n",
       "      <th>4</th>\n",
       "      <td>2024-11-02</td>\n",
       "      <td>48</td>\n",
       "      <td>212</td>\n",
       "      <td>6</td>\n",
       "      <td>854</td>\n",
       "      <td>Darrell Brady</td>\n",
       "      <td>East</td>\n",
       "      <td>Retail</td>\n",
       "      <td>Mind</td>\n",
       "      <td>Accessories</td>\n",
       "      <td>67</td>\n",
       "      <td>1471</td>\n",
       "      <td>1038</td>\n",
       "      <td>31</td>\n",
       "      <td>27</td>\n",
       "      <td>2024-11</td>\n",
       "      <td>173.00</td>\n",
       "    </tr>\n",
       "  </tbody>\n",
       "</table>\n",
       "</div>"
      ],
      "text/plain": [
       "   OrderDate  CustomerID  ProductID  Quantity  TotalAmount            Name  \\\n",
       "0 2023-02-11           6        212         4          426    Lauren Walls   \n",
       "1 2022-12-23           8        212         6          451   Derek Sanders   \n",
       "2 2023-02-03          28        212         1          665  Bradley Huerta   \n",
       "3 2024-10-16           3        212        10          512   Cheryl Harris   \n",
       "4 2024-11-02          48        212         6          854   Darrell Brady   \n",
       "\n",
       "    Region    Segment ProductName     Category  Price  OrderID  Revenue  \\\n",
       "0     West  Wholesale        Mind  Accessories     67     1000     1755   \n",
       "1  Central     Retail        Mind  Accessories     67     1290      732   \n",
       "2  Central  Corporate        Mind  Accessories     67     1018      594   \n",
       "3     East  Corporate        Mind  Accessories     67     1490     1325   \n",
       "4     East     Retail        Mind  Accessories     67     1471     1038   \n",
       "\n",
       "   Discounts  Taxes    Month  Revenue_per_product  \n",
       "0         30     65  2023-02               438.75  \n",
       "1         25     71  2022-12               122.00  \n",
       "2         33    186  2023-02               594.00  \n",
       "3         80     22  2024-10               132.50  \n",
       "4         31     27  2024-11               173.00  "
      ]
     },
     "execution_count": 46,
     "metadata": {},
     "output_type": "execute_result"
    }
   ],
   "source": [
    "Sales_Analysis['Revenue_per_product'] = Sales_Analysis['Revenue']/Sales_Analysis['Quantity']\n",
    "Sales_Analysis.head()"
   ]
  },
  {
   "cell_type": "markdown",
   "id": "9a70c53e",
   "metadata": {},
   "source": [
    "#### Customer lifetime value."
   ]
  },
  {
   "cell_type": "code",
   "execution_count": 47,
   "id": "b1a2c5b0",
   "metadata": {},
   "outputs": [],
   "source": [
    "total_revenue = Sales_Analysis.groupby('Name')['Revenue'].sum()\n",
    "purchase_freq =Sales_Analysis.groupby('Name')['OrderDate'].nunique()\n",
    "customer_first_purchase = Sales_Analysis.groupby('Name')['OrderDate'].min()\n",
    "customer_last_purchase = Sales_Analysis.groupby('Name')['OrderDate'].max()\n",
    "customer_lifespan = (customer_last_purchase - customer_first_purchase).dt.days/365"
   ]
  },
  {
   "cell_type": "code",
   "execution_count": 48,
   "id": "6fc3eb8b",
   "metadata": {},
   "outputs": [
    {
     "data": {
      "text/html": [
       "<div>\n",
       "<style scoped>\n",
       "    .dataframe tbody tr th:only-of-type {\n",
       "        vertical-align: middle;\n",
       "    }\n",
       "\n",
       "    .dataframe tbody tr th {\n",
       "        vertical-align: top;\n",
       "    }\n",
       "\n",
       "    .dataframe thead th {\n",
       "        text-align: right;\n",
       "    }\n",
       "</style>\n",
       "<table border=\"1\" class=\"dataframe\">\n",
       "  <thead>\n",
       "    <tr style=\"text-align: right;\">\n",
       "      <th></th>\n",
       "      <th>OrderDate</th>\n",
       "      <th>CustomerID</th>\n",
       "      <th>ProductID</th>\n",
       "      <th>Quantity</th>\n",
       "      <th>TotalAmount</th>\n",
       "      <th>Name</th>\n",
       "      <th>Region</th>\n",
       "      <th>Segment</th>\n",
       "      <th>ProductName</th>\n",
       "      <th>Category</th>\n",
       "      <th>Price</th>\n",
       "      <th>OrderID</th>\n",
       "      <th>Revenue</th>\n",
       "      <th>Discounts</th>\n",
       "      <th>Taxes</th>\n",
       "      <th>Month</th>\n",
       "      <th>Revenue_per_product</th>\n",
       "      <th>Customer_lifetime_value</th>\n",
       "    </tr>\n",
       "  </thead>\n",
       "  <tbody>\n",
       "    <tr>\n",
       "      <th>0</th>\n",
       "      <td>2023-02-11</td>\n",
       "      <td>6</td>\n",
       "      <td>212</td>\n",
       "      <td>4</td>\n",
       "      <td>426</td>\n",
       "      <td>Lauren Walls</td>\n",
       "      <td>West</td>\n",
       "      <td>Wholesale</td>\n",
       "      <td>Mind</td>\n",
       "      <td>Accessories</td>\n",
       "      <td>67</td>\n",
       "      <td>1000</td>\n",
       "      <td>1755</td>\n",
       "      <td>30</td>\n",
       "      <td>65</td>\n",
       "      <td>2023-02</td>\n",
       "      <td>438.75</td>\n",
       "      <td>16214.432877</td>\n",
       "    </tr>\n",
       "    <tr>\n",
       "      <th>1</th>\n",
       "      <td>2022-12-23</td>\n",
       "      <td>8</td>\n",
       "      <td>212</td>\n",
       "      <td>6</td>\n",
       "      <td>451</td>\n",
       "      <td>Derek Sanders</td>\n",
       "      <td>Central</td>\n",
       "      <td>Retail</td>\n",
       "      <td>Mind</td>\n",
       "      <td>Accessories</td>\n",
       "      <td>67</td>\n",
       "      <td>1290</td>\n",
       "      <td>732</td>\n",
       "      <td>25</td>\n",
       "      <td>71</td>\n",
       "      <td>2022-12</td>\n",
       "      <td>122.00</td>\n",
       "      <td>21186.887671</td>\n",
       "    </tr>\n",
       "    <tr>\n",
       "      <th>2</th>\n",
       "      <td>2023-02-03</td>\n",
       "      <td>28</td>\n",
       "      <td>212</td>\n",
       "      <td>1</td>\n",
       "      <td>665</td>\n",
       "      <td>Bradley Huerta</td>\n",
       "      <td>Central</td>\n",
       "      <td>Corporate</td>\n",
       "      <td>Mind</td>\n",
       "      <td>Accessories</td>\n",
       "      <td>67</td>\n",
       "      <td>1018</td>\n",
       "      <td>594</td>\n",
       "      <td>33</td>\n",
       "      <td>186</td>\n",
       "      <td>2023-02</td>\n",
       "      <td>594.00</td>\n",
       "      <td>21692.427397</td>\n",
       "    </tr>\n",
       "    <tr>\n",
       "      <th>3</th>\n",
       "      <td>2024-10-16</td>\n",
       "      <td>3</td>\n",
       "      <td>212</td>\n",
       "      <td>10</td>\n",
       "      <td>512</td>\n",
       "      <td>Cheryl Harris</td>\n",
       "      <td>East</td>\n",
       "      <td>Corporate</td>\n",
       "      <td>Mind</td>\n",
       "      <td>Accessories</td>\n",
       "      <td>67</td>\n",
       "      <td>1490</td>\n",
       "      <td>1325</td>\n",
       "      <td>80</td>\n",
       "      <td>22</td>\n",
       "      <td>2024-10</td>\n",
       "      <td>132.50</td>\n",
       "      <td>36179.638356</td>\n",
       "    </tr>\n",
       "    <tr>\n",
       "      <th>4</th>\n",
       "      <td>2024-11-02</td>\n",
       "      <td>48</td>\n",
       "      <td>212</td>\n",
       "      <td>6</td>\n",
       "      <td>854</td>\n",
       "      <td>Darrell Brady</td>\n",
       "      <td>East</td>\n",
       "      <td>Retail</td>\n",
       "      <td>Mind</td>\n",
       "      <td>Accessories</td>\n",
       "      <td>67</td>\n",
       "      <td>1471</td>\n",
       "      <td>1038</td>\n",
       "      <td>31</td>\n",
       "      <td>27</td>\n",
       "      <td>2024-11</td>\n",
       "      <td>173.00</td>\n",
       "      <td>17869.369863</td>\n",
       "    </tr>\n",
       "  </tbody>\n",
       "</table>\n",
       "</div>"
      ],
      "text/plain": [
       "   OrderDate  CustomerID  ProductID  Quantity  TotalAmount            Name  \\\n",
       "0 2023-02-11           6        212         4          426    Lauren Walls   \n",
       "1 2022-12-23           8        212         6          451   Derek Sanders   \n",
       "2 2023-02-03          28        212         1          665  Bradley Huerta   \n",
       "3 2024-10-16           3        212        10          512   Cheryl Harris   \n",
       "4 2024-11-02          48        212         6          854   Darrell Brady   \n",
       "\n",
       "    Region    Segment ProductName     Category  Price  OrderID  Revenue  \\\n",
       "0     West  Wholesale        Mind  Accessories     67     1000     1755   \n",
       "1  Central     Retail        Mind  Accessories     67     1290      732   \n",
       "2  Central  Corporate        Mind  Accessories     67     1018      594   \n",
       "3     East  Corporate        Mind  Accessories     67     1490     1325   \n",
       "4     East     Retail        Mind  Accessories     67     1471     1038   \n",
       "\n",
       "   Discounts  Taxes    Month  Revenue_per_product  Customer_lifetime_value  \n",
       "0         30     65  2023-02               438.75             16214.432877  \n",
       "1         25     71  2022-12               122.00             21186.887671  \n",
       "2         33    186  2023-02               594.00             21692.427397  \n",
       "3         80     22  2024-10               132.50             36179.638356  \n",
       "4         31     27  2024-11               173.00             17869.369863  "
      ]
     },
     "execution_count": 48,
     "metadata": {},
     "output_type": "execute_result"
    }
   ],
   "source": [
    "avg_revenue_per_purchase = total_revenue / purchase_freq\n",
    "clv = avg_revenue_per_purchase * purchase_freq * customer_lifespan\n",
    "Sales_Analysis['Customer_lifetime_value'] = Sales_Analysis['Name'].map(clv)\n",
    "Sales_Analysis.head()"
   ]
  },
  {
   "cell_type": "markdown",
   "id": "a1c92b38",
   "metadata": {},
   "source": [
    "# Data Visualization"
   ]
  },
  {
   "cell_type": "code",
   "execution_count": 49,
   "id": "36343cf3",
   "metadata": {},
   "outputs": [
    {
     "data": {
      "text/plain": [
       "<AxesSubplot:title={'center':'CLV Contribution by Region'}, ylabel='Customer_lifetime_value'>"
      ]
     },
     "execution_count": 49,
     "metadata": {},
     "output_type": "execute_result"
    },
    {
     "data": {
      "image/png": "[encoded data removed]",
      "text/plain": [
       "<Figure size 640x480 with 1 Axes>"
      ]
     },
     "metadata": {},
     "output_type": "display_data"
    }
   ],
   "source": [
    "clv_by_region = Sales_Analysis.groupby('Region')['Customer_lifetime_value'].sum()\n",
    "clv_by_region.plot(kind='pie', autopct='%1.1f%%', title='CLV Contribution by Region')\n"
   ]
  },
  {
   "cell_type": "code",
   "execution_count": 125,
   "id": "ab696c78",
   "metadata": {},
   "outputs": [
    {
     "data": {
      "text/plain": [
       "<AxesSubplot:title={'center':'Average CLV Trend Over Time'}, xlabel='Month'>"
      ]
     },
     "execution_count": 125,
     "metadata": {},
     "output_type": "execute_result"
    },
    {
     "data": {
      "image/png": "[encoded data removed]",
      "text/plain": [
       "<Figure size 1400x500 with 1 Axes>"
      ]
     },
     "metadata": {},
     "output_type": "display_data"
    }
   ],
   "source": [
    "plt.figure(figsize=(14,5))\n",
    "monthly_clv = Sales_Analysis.groupby('Month')['Customer_lifetime_value'].mean()\n",
    "monthly_clv.plot(kind='line', marker='o', title='Average CLV Trend Over Time')\n"
   ]
  },
  {
   "cell_type": "markdown",
   "id": "f77b98a5",
   "metadata": {},
   "source": [
    "### Monthly Sales Revenue"
   ]
  },
  {
   "cell_type": "code",
   "execution_count": 51,
   "id": "99ab685a",
   "metadata": {},
   "outputs": [
    {
     "data": {
      "image/png": "[encoded data removed]",
      "text/plain": [
       "<Figure size 1400x400 with 1 Axes>"
      ]
     },
     "metadata": {},
     "output_type": "display_data"
    }
   ],
   "source": [
    "plt.figure(figsize=(14,4))\n",
    "sns.lineplot(x='month', y= 'TotalRevenue' , data =revenue_by_month ,marker = 'o')\n",
    "plt.title('Quantity Distribution')\n",
    "plt.xlabel('month')\n",
    "plt.ylabel('TotalRevenue')\n",
    "plt.xticks(rotation = 45)\n",
    "plt.show()"
   ]
  },
  {
   "cell_type": "markdown",
   "id": "159ca487",
   "metadata": {},
   "source": [
    "### 5 best selling Products"
   ]
  },
  {
   "cell_type": "code",
   "execution_count": 108,
   "id": "97582082",
   "metadata": {},
   "outputs": [
    {
     "data": {
      "image/png": "[encoded data removed]",
      "text/plain": [
       "<Figure size 640x480 with 1 Axes>"
      ]
     },
     "metadata": {},
     "output_type": "display_data"
    }
   ],
   "source": [
    "plt.pie(five_best_selling_products['TotalQuantitySold'], labels = five_best_selling_products['ProductName'] ,autopct='%.0f%%',startangle = 90)\n",
    "plt.title('Best Selling Products')\n",
    "plt.show()"
   ]
  },
  {
   "cell_type": "markdown",
   "id": "056a4af2",
   "metadata": {},
   "source": [
    "### Revenue Contribution By Segment"
   ]
  },
  {
   "cell_type": "code",
   "execution_count": 100,
   "id": "485df82f",
   "metadata": {},
   "outputs": [],
   "source": [
    "revenue_by_segment = Sales_Analysis.groupby('Segment')['Revenue'].sum().reset_index()\n",
    "sort_revenue = revenue_by_segment.sort_values(by='Revenue',ascending = False)"
   ]
  },
  {
   "cell_type": "code",
   "execution_count": 103,
   "id": "3a053dad",
   "metadata": {},
   "outputs": [
    {
     "data": {
      "image/png": "[encoded data removed]",
      "text/plain": [
       "<Figure size 640x480 with 1 Axes>"
      ]
     },
     "metadata": {},
     "output_type": "display_data"
    }
   ],
   "source": [
    "plt.pie(sort_revenue['Revenue'],labels = sort_revenue['Segment'], autopct = '%.0f%%',startangle=90, colors=sns.color_palette('Set3', len(sort_revenue)))\n",
    "plt.title('Renenue by Segment')\n",
    "plt.show()"
   ]
  },
  {
   "cell_type": "markdown",
   "id": "4d9af09a",
   "metadata": {},
   "source": [
    "### Revenue Contribution By Region"
   ]
  },
  {
   "cell_type": "code",
   "execution_count": 98,
   "id": "36aedfb6",
   "metadata": {},
   "outputs": [],
   "source": [
    "regional_sales = Sales_Analysis.groupby('Region')['Revenue'].sum().reset_index()\n",
    "region_sales_sorted=regional_sales.sort_values(by='Revenue',ascending = False)"
   ]
  },
  {
   "cell_type": "code",
   "execution_count": 99,
   "id": "91c7970a",
   "metadata": {},
   "outputs": [
    {
     "data": {
      "image/png": "[encoded data removed]",
      "text/plain": [
       "<Figure size 640x480 with 1 Axes>"
      ]
     },
     "metadata": {},
     "output_type": "display_data"
    }
   ],
   "source": [
    "sns.barplot(data=region_sales_sorted, x='Region', y='Revenue', palette='viridis')\n",
    "plt.title('Regional Sales Performance')\n",
    "plt.xlabel('Region')\n",
    "plt.ylabel('Total Revenue')\n",
    "plt.xticks(rotation=45)\n",
    "plt.tight_layout()\n",
    "plt.show()"
   ]
  },
  {
   "cell_type": "markdown",
   "id": "543588d5",
   "metadata": {},
   "source": [
    "# Revenue by Category"
   ]
  },
  {
   "cell_type": "code",
   "execution_count": 112,
   "id": "de7b63e4",
   "metadata": {},
   "outputs": [],
   "source": [
    "Revenue_by_category = Sales_Analysis.groupby('Category')['Revenue'].sum().reset_index()\n",
    "sorted_revenue_by_category = Revenue_by_category.sort_values(by='Revenue',ascending = False)"
   ]
  },
  {
   "cell_type": "code",
   "execution_count": 115,
   "id": "0417f6e3",
   "metadata": {},
   "outputs": [
    {
     "data": {
      "image/png": "[encoded data removed]",
      "text/plain": [
       "<Figure size 640x480 with 1 Axes>"
      ]
     },
     "metadata": {},
     "output_type": "display_data"
    }
   ],
   "source": [
    "sns.barplot(data=sorted_revenue_by_category, x='Category', y='Revenue', palette='viridis')\n",
    "plt.title('Revenue by Category')\n",
    "plt.xlabel('Category')\n",
    "plt.ylabel('Total Revenue')\n",
    "plt.show()"
   ]
  },
  {
   "cell_type": "markdown",
   "id": "e7df5d7a",
   "metadata": {},
   "source": [
    "# Category Preference"
   ]
  },
  {
   "cell_type": "code",
   "execution_count": 74,
   "id": "aeb59d3f",
   "metadata": {},
   "outputs": [
    {
     "data": {
      "text/html": [
       "<div>\n",
       "<style scoped>\n",
       "    .dataframe tbody tr th:only-of-type {\n",
       "        vertical-align: middle;\n",
       "    }\n",
       "\n",
       "    .dataframe tbody tr th {\n",
       "        vertical-align: top;\n",
       "    }\n",
       "\n",
       "    .dataframe thead th {\n",
       "        text-align: right;\n",
       "    }\n",
       "</style>\n",
       "<table border=\"1\" class=\"dataframe\">\n",
       "  <thead>\n",
       "    <tr style=\"text-align: right;\">\n",
       "      <th>Category</th>\n",
       "      <th>Accessories</th>\n",
       "      <th>Books</th>\n",
       "      <th>Electronics</th>\n",
       "      <th>Home Appliances</th>\n",
       "    </tr>\n",
       "    <tr>\n",
       "      <th>Segment</th>\n",
       "      <th></th>\n",
       "      <th></th>\n",
       "      <th></th>\n",
       "      <th></th>\n",
       "    </tr>\n",
       "  </thead>\n",
       "  <tbody>\n",
       "    <tr>\n",
       "      <th>Corporate</th>\n",
       "      <td>397</td>\n",
       "      <td>199</td>\n",
       "      <td>323</td>\n",
       "      <td>285</td>\n",
       "    </tr>\n",
       "    <tr>\n",
       "      <th>Retail</th>\n",
       "      <td>157</td>\n",
       "      <td>200</td>\n",
       "      <td>157</td>\n",
       "      <td>169</td>\n",
       "    </tr>\n",
       "    <tr>\n",
       "      <th>Wholesale</th>\n",
       "      <td>158</td>\n",
       "      <td>213</td>\n",
       "      <td>196</td>\n",
       "      <td>210</td>\n",
       "    </tr>\n",
       "  </tbody>\n",
       "</table>\n",
       "</div>"
      ],
      "text/plain": [
       "Category   Accessories  Books  Electronics  Home Appliances\n",
       "Segment                                                    \n",
       "Corporate          397    199          323              285\n",
       "Retail             157    200          157              169\n",
       "Wholesale          158    213          196              210"
      ]
     },
     "execution_count": 74,
     "metadata": {},
     "output_type": "execute_result"
    }
   ],
   "source": [
    "category_segment_data = Sales_Analysis.groupby(['Segment','Category'])['Quantity'].sum().reset_index()\n",
    "pivot_table =category_segment_data.pivot(index='Segment',columns ='Category',values='Quantity')\n",
    "pivot_table"
   ]
  },
  {
   "cell_type": "code",
   "execution_count": 78,
   "id": "945fd02b",
   "metadata": {},
   "outputs": [
    {
     "data": {
      "image/png": "[encoded data removed]",
      "text/plain": [
       "<Figure size 1000x600 with 1 Axes>"
      ]
     },
     "metadata": {},
     "output_type": "display_data"
    }
   ],
   "source": [
    "plt.figure(figsize=(10,6))\n",
    "sns.barplot(data=category_segment_data,x='Category',y='Quantity',hue='Segment')\n",
    "plt.title('Quantity sold by segment for each category')\n",
    "plt.xlabel('Category')\n",
    "plt.ylabel('Total Quantity Sold')\n",
    "plt.xticks(rotation=45)\n",
    "plt.tight_layout()\n",
    "plt.show()"
   ]
  },
  {
   "cell_type": "markdown",
   "id": "10237ecf",
   "metadata": {},
   "source": [
    "### Highest Discount Category"
   ]
  },
  {
   "cell_type": "code",
   "execution_count": 57,
   "id": "9bc5ee6a",
   "metadata": {},
   "outputs": [
    {
     "data": {
      "image/png": "[encoded data removed]",
      "text/plain": [
       "<Figure size 640x480 with 1 Axes>"
      ]
     },
     "metadata": {},
     "output_type": "display_data"
    }
   ],
   "source": [
    "sns.barplot(x = 'Category', y = 'Discounts', data =Sales_Analysis)\n",
    "plt.title('Discount Distribution by category')\n",
    "plt.show()"
   ]
  },
  {
   "cell_type": "code",
   "execution_count": 89,
   "id": "b6f52f95",
   "metadata": {},
   "outputs": [],
   "source": [
    "segment_discount = Sales_Analysis.groupby('Segment').agg (\n",
    "                    total_sales = ('Quantity','sum')).reset_index()"
   ]
  },
  {
   "cell_type": "code",
   "execution_count": 90,
   "id": "15d0a5c5",
   "metadata": {},
   "outputs": [
    {
     "data": {
      "image/png": "[encoded data removed]",
      "text/plain": [
       "<Figure size 640x480 with 1 Axes>"
      ]
     },
     "metadata": {},
     "output_type": "display_data"
    }
   ],
   "source": [
    "sns.barplot(data =segment_discount, x='Segment',y='total_sales')\n",
    "plt.title('Total Quantity by Segment')\n",
    "plt.xlabel('Segment')\n",
    "plt.ylabel('Quantity by segment')\n",
    "plt.xticks(rotation=45)\n",
    "plt.tight_layout()\n",
    "plt.show()\n"
   ]
  },
  {
   "cell_type": "markdown",
   "id": "e43afcb8",
   "metadata": {},
   "source": [
    "### Taxes By Category"
   ]
  },
  {
   "cell_type": "code",
   "execution_count": 58,
   "id": "3c0a3389",
   "metadata": {},
   "outputs": [
    {
     "data": {
      "image/png": "[encoded data removed]",
      "text/plain": [
       "<Figure size 600x600 with 1 Axes>"
      ]
     },
     "metadata": {},
     "output_type": "display_data"
    }
   ],
   "source": [
    "tax_by_category = Sales_Analysis.groupby('Category')['Taxes'].sum().reset_index()\n",
    "plt.figure(figsize=(6,6))\n",
    "plt.pie(tax_by_category[\"Taxes\"],labels=tax_by_category[\"Category\"],autopct=\"%1.1f%%\",startangle=180)\n",
    "plt.title(\"Taxes by Category\")\n",
    "plt.show()"
   ]
  },
  {
   "cell_type": "markdown",
   "id": "e5f0ea28",
   "metadata": {},
   "source": [
    "### Taxes by Segment"
   ]
  },
  {
   "cell_type": "code",
   "execution_count": 59,
   "id": "291b1f67",
   "metadata": {},
   "outputs": [
    {
     "data": {
      "image/png": "[encoded data removed]",
      "text/plain": [
       "<Figure size 600x600 with 1 Axes>"
      ]
     },
     "metadata": {},
     "output_type": "display_data"
    }
   ],
   "source": [
    "tax_by_segment = Sales_Analysis.groupby('Segment')['Taxes'].mean().reset_index()\n",
    "plt.figure(figsize = (6,6))\n",
    "plt.pie(tax_by_segment['Taxes'],labels = tax_by_segment['Segment'],autopct = '%1.1f%%')\n",
    "plt.title('Taxes by Segment')\n",
    "plt.show()"
   ]
  },
  {
   "cell_type": "markdown",
   "id": "720188ae",
   "metadata": {},
   "source": [
    "### Average Taxes by Region"
   ]
  },
  {
   "cell_type": "code",
   "execution_count": 60,
   "id": "800f8eec",
   "metadata": {},
   "outputs": [
    {
     "data": {
      "image/png": "[encoded data removed]",
      "text/plain": [
       "<Figure size 600x600 with 1 Axes>"
      ]
     },
     "metadata": {},
     "output_type": "display_data"
    }
   ],
   "source": [
    "# Calculate average taxes by region\n",
    "avg_taxes_by_region = Sales_Analysis.groupby('Region')['Taxes'].mean()\n",
    "\n",
    "# Plot pie chart\n",
    "plt.figure(figsize=(6, 6))\n",
    "plt.pie(avg_taxes_by_region, labels=avg_taxes_by_region.index, autopct='%1.1f%%')\n",
    "plt.title('Average Taxes by Region')\n",
    "plt.show()\n",
    "\n",
    "# avg_taxes_by_region.plot(kind ='bar' , title   ='Average Tax by Region')"
   ]
  },
  {
   "cell_type": "markdown",
   "id": "c2bec7b0",
   "metadata": {},
   "source": [
    "# Results"
   ]
  },
  {
   "cell_type": "markdown",
   "id": "e8defd3e",
   "metadata": {},
   "source": [
    "#### Data Overview"
   ]
  },
  {
   "cell_type": "raw",
   "id": "56fcfe7e",
   "metadata": {},
   "source": [
    "-- There are 484 rows and 15 column\n",
    "-- No missing and duplicates values are present"
   ]
  },
  {
   "cell_type": "markdown",
   "id": "7c6e6f0e",
   "metadata": {},
   "source": [
    "#### Categorical Variables"
   ]
  },
  {
   "cell_type": "raw",
   "id": "9f40f6c0",
   "metadata": {},
   "source": [
    "-- Total 50 unique customers are present in dataset\n",
    "-- Data is from \n",
    ". 5 Region\n",
    ". 3 Segments (Retail,Wholesales,Coperate)\n",
    ". 48 unique Products\n",
    ". 4 Unique Category"
   ]
  },
  {
   "cell_type": "markdown",
   "id": "dca42cac",
   "metadata": {},
   "source": [
    "# EDA Summary"
   ]
  },
  {
   "cell_type": "markdown",
   "id": "e9599e10",
   "metadata": {},
   "source": [
    "* Best Products and Regions: Accessories are the top-selling product category.The West region generates the highest sales and   \n",
    "  has the highest average transaction value.\n",
    "* Corporate Customers:Corporate customers in the West region buying Accessories bring in the most revenue, making them a \n",
    "  valuable segment to focus on.\n",
    "* Customer lifetime value: The West region are the most valuable in terms of lifetime spending or retention.\n",
    "* Underperforming Areas: The South region has low sales in the Accessories category, showing the need for better strategies like   promotions or targeted advertising.\n",
    "* Seasonal Trends: July 2024 is the best revenue month, while November 2024 has the lowest sales. This suggests need to boost sales during slower months.\n",
    "* Discounts: The Electronics category receives the most discounts.\n",
    "* Order Quantity: Most orders are small to medium in size, with a maximum of 10 items per order.\n",
    "* Taxes: Accessories contribute the most in taxes, while the South region and Wholesales segment pay the least, likely due to  \n",
    "  lower sales."
   ]
  },
  {
   "cell_type": "code",
   "execution_count": null,
   "id": "9e2092ca",
   "metadata": {},
   "outputs": [],
   "source": []
  }
 ],
 "metadata": {
  "kernelspec": {
   "display_name": "Python 3 (ipykernel)",
   "language": "python",
   "name": "python3"
  },
  "language_info": {
   "codemirror_mode": {
    "name": "ipython",
    "version": 3
   },
   "file_extension": ".py",
   "mimetype": "text/x-python",
   "name": "python",
   "nbconvert_exporter": "python",
   "pygments_lexer": "ipython3",
   "version": "3.9.13"
  }
 },
 "nbformat": 4,
 "nbformat_minor": 5
}
